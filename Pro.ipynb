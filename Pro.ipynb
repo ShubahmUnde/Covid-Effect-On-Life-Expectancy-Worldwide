{
 "cells": [
  {
   "cell_type": "code",
   "execution_count": 55,
   "id": "9aab90d5",
   "metadata": {},
   "outputs": [],
   "source": [
    "# Libraries\n",
    "import numpy as np\n",
    "import pandas as pd\n",
    "import matplotlib.pyplot as plt\n",
    "\n",
    "import statsmodels.api as sm\n",
    "from sklearn.model_selection import train_test_split,KFold\n",
    "from sklearn.metrics import mean_squared_error\n",
    "import scipy.stats as stats\n",
    "from sklearn.model_selection import cross_val_score"
   ]
  },
  {
   "cell_type": "code",
   "execution_count": 3,
   "id": "5da39617",
   "metadata": {},
   "outputs": [],
   "source": [
    "path=\"D:/project/Life_exe_final.xlsx\"\n",
    "data=pd.read_excel(path)"
   ]
  },
  {
   "cell_type": "code",
   "execution_count": 4,
   "id": "46aa635f",
   "metadata": {},
   "outputs": [
    {
     "data": {
      "text/html": [
       "<div>\n",
       "<style scoped>\n",
       "    .dataframe tbody tr th:only-of-type {\n",
       "        vertical-align: middle;\n",
       "    }\n",
       "\n",
       "    .dataframe tbody tr th {\n",
       "        vertical-align: top;\n",
       "    }\n",
       "\n",
       "    .dataframe thead th {\n",
       "        text-align: right;\n",
       "    }\n",
       "</style>\n",
       "<table border=\"1\" class=\"dataframe\">\n",
       "  <thead>\n",
       "    <tr style=\"text-align: right;\">\n",
       "      <th></th>\n",
       "      <th>Country</th>\n",
       "      <th>Year</th>\n",
       "      <th>Status</th>\n",
       "      <th>Adult Mortality</th>\n",
       "      <th>infant deaths</th>\n",
       "      <th>Alcohol</th>\n",
       "      <th>percentage expenditure</th>\n",
       "      <th>Hepatitis B</th>\n",
       "      <th>Measles</th>\n",
       "      <th>BMI</th>\n",
       "      <th>...</th>\n",
       "      <th>Diphtheria (deaths/1000)</th>\n",
       "      <th>HIV/AIDS(impact)</th>\n",
       "      <th>GDP</th>\n",
       "      <th>Population</th>\n",
       "      <th>thinness  10-19 years</th>\n",
       "      <th>thinness 5-9 years</th>\n",
       "      <th>Income composition of resources</th>\n",
       "      <th>Schooling</th>\n",
       "      <th>COVID</th>\n",
       "      <th>Life expectancy</th>\n",
       "    </tr>\n",
       "  </thead>\n",
       "  <tbody>\n",
       "    <tr>\n",
       "      <th>0</th>\n",
       "      <td>United States of America</td>\n",
       "      <td>2021</td>\n",
       "      <td>Developed</td>\n",
       "      <td>19.0</td>\n",
       "      <td>11.0</td>\n",
       "      <td>8.30</td>\n",
       "      <td>5241.30</td>\n",
       "      <td>91.7</td>\n",
       "      <td>324</td>\n",
       "      <td>70.8</td>\n",
       "      <td>...</td>\n",
       "      <td>94.0</td>\n",
       "      <td>0.1</td>\n",
       "      <td>65031.0</td>\n",
       "      <td>327954612</td>\n",
       "      <td>0.75</td>\n",
       "      <td>0.57</td>\n",
       "      <td>0.88</td>\n",
       "      <td>15.8</td>\n",
       "      <td>181.26</td>\n",
       "      <td>77.10</td>\n",
       "    </tr>\n",
       "    <tr>\n",
       "      <th>1</th>\n",
       "      <td>United States of America</td>\n",
       "      <td>2020</td>\n",
       "      <td>Developed</td>\n",
       "      <td>20.0</td>\n",
       "      <td>19.0</td>\n",
       "      <td>8.20</td>\n",
       "      <td>5210.20</td>\n",
       "      <td>91.5</td>\n",
       "      <td>410</td>\n",
       "      <td>70.6</td>\n",
       "      <td>...</td>\n",
       "      <td>95.0</td>\n",
       "      <td>0.1</td>\n",
       "      <td>64012.0</td>\n",
       "      <td>328010321</td>\n",
       "      <td>0.76</td>\n",
       "      <td>0.54</td>\n",
       "      <td>0.90</td>\n",
       "      <td>16.0</td>\n",
       "      <td>178.20</td>\n",
       "      <td>77.50</td>\n",
       "    </tr>\n",
       "    <tr>\n",
       "      <th>2</th>\n",
       "      <td>United States of America</td>\n",
       "      <td>2019</td>\n",
       "      <td>Developed</td>\n",
       "      <td>17.0</td>\n",
       "      <td>13.0</td>\n",
       "      <td>8.10</td>\n",
       "      <td>5123.20</td>\n",
       "      <td>91.0</td>\n",
       "      <td>310</td>\n",
       "      <td>68.3</td>\n",
       "      <td>...</td>\n",
       "      <td>90.0</td>\n",
       "      <td>0.1</td>\n",
       "      <td>65298.0</td>\n",
       "      <td>329064917</td>\n",
       "      <td>0.77</td>\n",
       "      <td>0.56</td>\n",
       "      <td>0.93</td>\n",
       "      <td>16.2</td>\n",
       "      <td>1.00</td>\n",
       "      <td>78.87</td>\n",
       "    </tr>\n",
       "    <tr>\n",
       "      <th>3</th>\n",
       "      <td>United States of America</td>\n",
       "      <td>2018</td>\n",
       "      <td>Developed</td>\n",
       "      <td>15.0</td>\n",
       "      <td>17.0</td>\n",
       "      <td>8.20</td>\n",
       "      <td>5323.64</td>\n",
       "      <td>89.5</td>\n",
       "      <td>264</td>\n",
       "      <td>70.1</td>\n",
       "      <td>...</td>\n",
       "      <td>96.0</td>\n",
       "      <td>0.1</td>\n",
       "      <td>62996.0</td>\n",
       "      <td>327096265</td>\n",
       "      <td>0.81</td>\n",
       "      <td>0.59</td>\n",
       "      <td>0.91</td>\n",
       "      <td>16.6</td>\n",
       "      <td>1.00</td>\n",
       "      <td>78.81</td>\n",
       "    </tr>\n",
       "    <tr>\n",
       "      <th>4</th>\n",
       "      <td>United States of America</td>\n",
       "      <td>2017</td>\n",
       "      <td>Developed</td>\n",
       "      <td>13.0</td>\n",
       "      <td>21.0</td>\n",
       "      <td>8.47</td>\n",
       "      <td>5200.64</td>\n",
       "      <td>90.0</td>\n",
       "      <td>215</td>\n",
       "      <td>69.1</td>\n",
       "      <td>...</td>\n",
       "      <td>91.0</td>\n",
       "      <td>0.1</td>\n",
       "      <td>60062.0</td>\n",
       "      <td>327096266</td>\n",
       "      <td>0.78</td>\n",
       "      <td>0.58</td>\n",
       "      <td>0.92</td>\n",
       "      <td>16.5</td>\n",
       "      <td>2.00</td>\n",
       "      <td>78.84</td>\n",
       "    </tr>\n",
       "  </tbody>\n",
       "</table>\n",
       "<p>5 rows × 23 columns</p>\n",
       "</div>"
      ],
      "text/plain": [
       "                    Country  Year     Status  Adult Mortality  infant deaths  \\\n",
       "0  United States of America  2021  Developed             19.0           11.0   \n",
       "1  United States of America  2020  Developed             20.0           19.0   \n",
       "2  United States of America  2019  Developed             17.0           13.0   \n",
       "3  United States of America  2018  Developed             15.0           17.0   \n",
       "4  United States of America  2017  Developed             13.0           21.0   \n",
       "\n",
       "   Alcohol  percentage expenditure  Hepatitis B  Measles    BMI   ...  \\\n",
       "0     8.30                 5241.30         91.7       324   70.8  ...   \n",
       "1     8.20                 5210.20         91.5       410   70.6  ...   \n",
       "2     8.10                 5123.20         91.0       310   68.3  ...   \n",
       "3     8.20                 5323.64         89.5       264   70.1  ...   \n",
       "4     8.47                 5200.64         90.0       215   69.1  ...   \n",
       "\n",
       "   Diphtheria (deaths/1000)   HIV/AIDS(impact)      GDP  Population  \\\n",
       "0                      94.0                0.1  65031.0   327954612   \n",
       "1                      95.0                0.1  64012.0   328010321   \n",
       "2                      90.0                0.1  65298.0   329064917   \n",
       "3                      96.0                0.1  62996.0   327096265   \n",
       "4                      91.0                0.1  60062.0   327096266   \n",
       "\n",
       "    thinness  10-19 years   thinness 5-9 years  \\\n",
       "0                    0.75                 0.57   \n",
       "1                    0.76                 0.54   \n",
       "2                    0.77                 0.56   \n",
       "3                    0.81                 0.59   \n",
       "4                    0.78                 0.58   \n",
       "\n",
       "   Income composition of resources  Schooling  COVID   Life expectancy   \n",
       "0                             0.88       15.8  181.26             77.10  \n",
       "1                             0.90       16.0  178.20             77.50  \n",
       "2                             0.93       16.2    1.00             78.87  \n",
       "3                             0.91       16.6    1.00             78.81  \n",
       "4                             0.92       16.5    2.00             78.84  \n",
       "\n",
       "[5 rows x 23 columns]"
      ]
     },
     "execution_count": 4,
     "metadata": {},
     "output_type": "execute_result"
    }
   ],
   "source": [
    "data.head()"
   ]
  },
  {
   "cell_type": "code",
   "execution_count": 6,
   "id": "c428a402",
   "metadata": {},
   "outputs": [],
   "source": [
    "data.shape\n",
    "data.columns\n",
    "data1=data.copy()"
   ]
  },
  {
   "cell_type": "code",
   "execution_count": 7,
   "id": "6384445b",
   "metadata": {},
   "outputs": [],
   "source": [
    "data1.columns=['country','year','status','adult_mortality','infant_deaths','alcohol','percentage_exp','hepatitis_B','measles','bmi','under_five_deths','polio','total_expenditure','diphtheria','hiv_or_aids','gdp','population','thinsess_1to19_years','thinsess_5to9_years','income_composition_of_resources','schooling','COVID','life_expectancy']\n",
    "data.columns=['country','year','status','adult_mortality','infant_deaths','alcohol','percentage_exp','hepatitis_B','measles','bmi','under_five_deths','polio','total_expenditure','diphtheria','hiv_or_aids','gdp','population','thinsess_1to19_years','thinsess_5to9_years','income_composition_of_resources','schooling','COVID','life_expectancy']"
   ]
  },
  {
   "cell_type": "code",
   "execution_count": 8,
   "id": "80cd57ed",
   "metadata": {},
   "outputs": [],
   "source": [
    "data1.drop('COVID',axis=1,inplace=True)"
   ]
  },
  {
   "cell_type": "code",
   "execution_count": 9,
   "id": "8e650567",
   "metadata": {},
   "outputs": [
    {
     "data": {
      "text/plain": [
       "country                             object\n",
       "year                                 int64\n",
       "status                              object\n",
       "adult_mortality                    float64\n",
       "infant_deaths                      float64\n",
       "alcohol                            float64\n",
       "percentage_exp                     float64\n",
       "hepatitis_B                        float64\n",
       "measles                              int64\n",
       "bmi                                float64\n",
       "under_five_deths                   float64\n",
       "polio                              float64\n",
       "total_expenditure                  float64\n",
       "diphtheria                         float64\n",
       "hiv_or_aids                        float64\n",
       "gdp                                float64\n",
       "population                           int64\n",
       "thinsess_1to19_years               float64\n",
       "thinsess_5to9_years                float64\n",
       "income_composition_of_resources    float64\n",
       "schooling                          float64\n",
       "life_expectancy                    float64\n",
       "dtype: object"
      ]
     },
     "execution_count": 9,
     "metadata": {},
     "output_type": "execute_result"
    }
   ],
   "source": [
    "data1.dtypes"
   ]
  },
  {
   "cell_type": "code",
   "execution_count": 10,
   "id": "b2d1cb6f",
   "metadata": {},
   "outputs": [
    {
     "data": {
      "text/plain": [
       "country                            0\n",
       "year                               0\n",
       "status                             0\n",
       "adult_mortality                    0\n",
       "infant_deaths                      0\n",
       "alcohol                            0\n",
       "percentage_exp                     0\n",
       "hepatitis_B                        0\n",
       "measles                            0\n",
       "bmi                                0\n",
       "under_five_deths                   0\n",
       "polio                              0\n",
       "total_expenditure                  0\n",
       "diphtheria                         0\n",
       "hiv_or_aids                        0\n",
       "gdp                                0\n",
       "population                         0\n",
       "thinsess_1to19_years               0\n",
       "thinsess_5to9_years                0\n",
       "income_composition_of_resources    0\n",
       "schooling                          0\n",
       "life_expectancy                    0\n",
       "dtype: int64"
      ]
     },
     "execution_count": 10,
     "metadata": {},
     "output_type": "execute_result"
    }
   ],
   "source": [
    "## Checking the nulls\n",
    "data1.isnull().sum() # No nulls"
   ]
  },
  {
   "cell_type": "code",
   "execution_count": 31,
   "id": "12d0b27f",
   "metadata": {},
   "outputs": [
    {
     "name": "stdout",
     "output_type": "stream",
     "text": [
      "['year' 'adult_mortality' 'alcohol' 'percentage_exp' 'hepatitis_B' 'bmi'\n",
      " 'polio' 'total_expenditure' 'hiv_or_aids' 'population' 'schooling'\n",
      " 'life_expectancy']\n"
     ]
    },
    {
     "data": {
      "text/plain": [
       "Text(0.5, 1.0, 'Correlation Matrix')"
      ]
     },
     "execution_count": 31,
     "metadata": {},
     "output_type": "execute_result"
    }
   ],
   "source": [
    "#### Multi-collinearity\n",
    "import seaborn as sns\n",
    "cor = data1.corr()\n",
    "cor=np.tril(cor)\n",
    "nc=data1.select_dtypes(exclude='object').columns.values\n",
    "print(nc)\n",
    "cols=data1[nc].columns\n",
    "\n",
    "#interactive plotting in separate window\n",
    "%matplotlib qt \n",
    "\n",
    "sns.heatmap(cor,xticklabels=cols,yticklabels=cols,vmin=-1,vmax=1,annot=True,square=False) # vmin and vmax shows the limit in legends\n",
    "plt.title(\"Correlation Matrix\")"
   ]
  },
  {
   "cell_type": "code",
   "execution_count": 12,
   "id": "b78b42fd",
   "metadata": {},
   "outputs": [],
   "source": [
    "## Removing columns which are highly correlated\n",
    "data1=data1.drop('under_five_deths',axis=1)\n",
    "data1=data1.drop('thinsess_5to9_years',axis=1)\n",
    "data1=data1.drop('thinsess_1to19_years',axis=1)"
   ]
  },
  {
   "cell_type": "code",
   "execution_count": 13,
   "id": "2b06c129",
   "metadata": {},
   "outputs": [],
   "source": [
    "data1.drop('income_composition_of_resources',axis=1,inplace=True)"
   ]
  },
  {
   "cell_type": "code",
   "execution_count": 14,
   "id": "d67a885b",
   "metadata": {},
   "outputs": [],
   "source": [
    "data1.drop('infant_deaths',axis=1,inplace=True)"
   ]
  },
  {
   "cell_type": "code",
   "execution_count": 15,
   "id": "2a12ab69",
   "metadata": {},
   "outputs": [],
   "source": [
    "data1.drop('gdp',axis=1,inplace=True)\n",
    "data1.drop('diphtheria',axis=1,inplace=True)"
   ]
  },
  {
   "cell_type": "code",
   "execution_count": 16,
   "id": "15fae539",
   "metadata": {},
   "outputs": [],
   "source": [
    "data1.drop('measles',axis=1,inplace=True)"
   ]
  },
  {
   "cell_type": "code",
   "execution_count": 17,
   "id": "757d87c1",
   "metadata": {},
   "outputs": [
    {
     "data": {
      "text/html": [
       "<div>\n",
       "<style scoped>\n",
       "    .dataframe tbody tr th:only-of-type {\n",
       "        vertical-align: middle;\n",
       "    }\n",
       "\n",
       "    .dataframe tbody tr th {\n",
       "        vertical-align: top;\n",
       "    }\n",
       "\n",
       "    .dataframe thead th {\n",
       "        text-align: right;\n",
       "    }\n",
       "</style>\n",
       "<table border=\"1\" class=\"dataframe\">\n",
       "  <thead>\n",
       "    <tr style=\"text-align: right;\">\n",
       "      <th></th>\n",
       "      <th>year</th>\n",
       "      <th>adult_mortality</th>\n",
       "      <th>alcohol</th>\n",
       "      <th>percentage_exp</th>\n",
       "      <th>hepatitis_B</th>\n",
       "      <th>bmi</th>\n",
       "      <th>polio</th>\n",
       "      <th>total_expenditure</th>\n",
       "      <th>hiv_or_aids</th>\n",
       "      <th>population</th>\n",
       "      <th>schooling</th>\n",
       "      <th>life_expectancy</th>\n",
       "    </tr>\n",
       "  </thead>\n",
       "  <tbody>\n",
       "    <tr>\n",
       "      <th>count</th>\n",
       "      <td>616.000000</td>\n",
       "      <td>616.000000</td>\n",
       "      <td>616.000000</td>\n",
       "      <td>616.000000</td>\n",
       "      <td>616.000000</td>\n",
       "      <td>616.000000</td>\n",
       "      <td>616.000000</td>\n",
       "      <td>616.000000</td>\n",
       "      <td>616.000000</td>\n",
       "      <td>6.160000e+02</td>\n",
       "      <td>616.000000</td>\n",
       "      <td>616.000000</td>\n",
       "    </tr>\n",
       "    <tr>\n",
       "      <th>mean</th>\n",
       "      <td>2010.493506</td>\n",
       "      <td>134.071104</td>\n",
       "      <td>7.106282</td>\n",
       "      <td>2267.476769</td>\n",
       "      <td>81.486526</td>\n",
       "      <td>52.987808</td>\n",
       "      <td>90.070292</td>\n",
       "      <td>7.626039</td>\n",
       "      <td>0.640925</td>\n",
       "      <td>1.163973e+08</td>\n",
       "      <td>14.486185</td>\n",
       "      <td>75.038133</td>\n",
       "    </tr>\n",
       "    <tr>\n",
       "      <th>std</th>\n",
       "      <td>6.340215</td>\n",
       "      <td>81.560166</td>\n",
       "      <td>3.712449</td>\n",
       "      <td>2844.732860</td>\n",
       "      <td>20.585398</td>\n",
       "      <td>15.721452</td>\n",
       "      <td>11.486064</td>\n",
       "      <td>2.988580</td>\n",
       "      <td>3.339271</td>\n",
       "      <td>2.284227e+08</td>\n",
       "      <td>2.150569</td>\n",
       "      <td>5.774179</td>\n",
       "    </tr>\n",
       "    <tr>\n",
       "      <th>min</th>\n",
       "      <td>2000.000000</td>\n",
       "      <td>3.000000</td>\n",
       "      <td>0.010000</td>\n",
       "      <td>0.840000</td>\n",
       "      <td>6.000000</td>\n",
       "      <td>5.100000</td>\n",
       "      <td>9.000000</td>\n",
       "      <td>1.220000</td>\n",
       "      <td>0.100000</td>\n",
       "      <td>3.452745e+06</td>\n",
       "      <td>8.300000</td>\n",
       "      <td>53.900000</td>\n",
       "    </tr>\n",
       "    <tr>\n",
       "      <th>25%</th>\n",
       "      <td>2005.000000</td>\n",
       "      <td>77.000000</td>\n",
       "      <td>4.527500</td>\n",
       "      <td>264.472500</td>\n",
       "      <td>72.750000</td>\n",
       "      <td>52.800000</td>\n",
       "      <td>88.000000</td>\n",
       "      <td>5.600000</td>\n",
       "      <td>0.100000</td>\n",
       "      <td>2.986099e+07</td>\n",
       "      <td>12.975000</td>\n",
       "      <td>71.210000</td>\n",
       "    </tr>\n",
       "    <tr>\n",
       "      <th>50%</th>\n",
       "      <td>2010.500000</td>\n",
       "      <td>122.000000</td>\n",
       "      <td>7.670000</td>\n",
       "      <td>998.275000</td>\n",
       "      <td>91.000000</td>\n",
       "      <td>58.200000</td>\n",
       "      <td>94.000000</td>\n",
       "      <td>7.240000</td>\n",
       "      <td>0.100000</td>\n",
       "      <td>4.838754e+07</td>\n",
       "      <td>15.000000</td>\n",
       "      <td>75.685000</td>\n",
       "    </tr>\n",
       "    <tr>\n",
       "      <th>75%</th>\n",
       "      <td>2016.000000</td>\n",
       "      <td>172.250000</td>\n",
       "      <td>9.782500</td>\n",
       "      <td>3671.250000</td>\n",
       "      <td>96.000000</td>\n",
       "      <td>62.300000</td>\n",
       "      <td>97.000000</td>\n",
       "      <td>9.250000</td>\n",
       "      <td>0.100000</td>\n",
       "      <td>8.784238e+07</td>\n",
       "      <td>16.200000</td>\n",
       "      <td>79.690000</td>\n",
       "    </tr>\n",
       "    <tr>\n",
       "      <th>max</th>\n",
       "      <td>2021.000000</td>\n",
       "      <td>498.000000</td>\n",
       "      <td>13.890000</td>\n",
       "      <td>12123.000000</td>\n",
       "      <td>99.000000</td>\n",
       "      <td>70.800000</td>\n",
       "      <td>99.000000</td>\n",
       "      <td>19.000000</td>\n",
       "      <td>29.700000</td>\n",
       "      <td>1.366418e+09</td>\n",
       "      <td>18.800000</td>\n",
       "      <td>83.570000</td>\n",
       "    </tr>\n",
       "  </tbody>\n",
       "</table>\n",
       "</div>"
      ],
      "text/plain": [
       "              year  adult_mortality     alcohol  percentage_exp  hepatitis_B  \\\n",
       "count   616.000000       616.000000  616.000000      616.000000   616.000000   \n",
       "mean   2010.493506       134.071104    7.106282     2267.476769    81.486526   \n",
       "std       6.340215        81.560166    3.712449     2844.732860    20.585398   \n",
       "min    2000.000000         3.000000    0.010000        0.840000     6.000000   \n",
       "25%    2005.000000        77.000000    4.527500      264.472500    72.750000   \n",
       "50%    2010.500000       122.000000    7.670000      998.275000    91.000000   \n",
       "75%    2016.000000       172.250000    9.782500     3671.250000    96.000000   \n",
       "max    2021.000000       498.000000   13.890000    12123.000000    99.000000   \n",
       "\n",
       "              bmi       polio  total_expenditure  hiv_or_aids    population  \\\n",
       "count  616.000000  616.000000         616.000000   616.000000  6.160000e+02   \n",
       "mean    52.987808   90.070292           7.626039     0.640925  1.163973e+08   \n",
       "std     15.721452   11.486064           2.988580     3.339271  2.284227e+08   \n",
       "min      5.100000    9.000000           1.220000     0.100000  3.452745e+06   \n",
       "25%     52.800000   88.000000           5.600000     0.100000  2.986099e+07   \n",
       "50%     58.200000   94.000000           7.240000     0.100000  4.838754e+07   \n",
       "75%     62.300000   97.000000           9.250000     0.100000  8.784238e+07   \n",
       "max     70.800000   99.000000          19.000000    29.700000  1.366418e+09   \n",
       "\n",
       "        schooling  life_expectancy  \n",
       "count  616.000000       616.000000  \n",
       "mean    14.486185        75.038133  \n",
       "std      2.150569         5.774179  \n",
       "min      8.300000        53.900000  \n",
       "25%     12.975000        71.210000  \n",
       "50%     15.000000        75.685000  \n",
       "75%     16.200000        79.690000  \n",
       "max     18.800000        83.570000  "
      ]
     },
     "execution_count": 17,
     "metadata": {},
     "output_type": "execute_result"
    }
   ],
   "source": [
    "data1.describe()"
   ]
  },
  {
   "cell_type": "code",
   "execution_count": 18,
   "id": "fba8cf56",
   "metadata": {},
   "outputs": [
    {
     "data": {
      "text/plain": [
       "array(['Developed', 'Developing'], dtype=object)"
      ]
     },
     "execution_count": 18,
     "metadata": {},
     "output_type": "execute_result"
    }
   ],
   "source": [
    "## Categorical Data\n",
    "fc=data1.select_dtypes(include='object').columns.values\n",
    "data1.country.unique()\n",
    "data1.status.unique()"
   ]
  },
  {
   "cell_type": "code",
   "execution_count": 20,
   "id": "f5ba4afe",
   "metadata": {},
   "outputs": [],
   "source": [
    "## Model Building\n",
    "# Linear Regression\n",
    "# Ridge\n",
    "# Lasso\n",
    "# Decision Tree Regressor\n",
    "# Random Forest Regressor\n",
    "# SVM\n",
    "# KNN\n",
    "# BOOSTING (Gradient, Adboosting)"
   ]
  },
  {
   "cell_type": "code",
   "execution_count": null,
   "id": "97157bd8",
   "metadata": {},
   "outputs": [],
   "source": [
    "##### Linear Regression"
   ]
  },
  {
   "cell_type": "code",
   "execution_count": 19,
   "id": "1839c631",
   "metadata": {},
   "outputs": [],
   "source": [
    "#### FUNCTIONS\n",
    "\n",
    "def LR_Model(trainx,testx,trainy,testy):\n",
    "    trainx=sm.add_constant(trainx)\n",
    "    testx=sm.add_constant(testx)\n",
    "\n",
    "    m=sm.OLS(trainy,trainx).fit()\n",
    "\n",
    "    ## Summarise the model\n",
    "    summary=m.summary()\n",
    "    \n",
    "    p=m.predict(testx)\n",
    "    \n",
    "    # MSE of the model\n",
    "    mse=np.round(mean_squared_error(testy,p),3)\n",
    "    mse\n",
    "\n",
    "    return([m,summary,mse])\n",
    "    \n",
    "\n",
    "def CrossValidation_LR(trainx,trainy,k):\n",
    "    folds=k\n",
    "    cv_mse=[]\n",
    "\n",
    "    X=trainx.values # Should be in the form of array\n",
    "    Y=trainy.values\n",
    "\n",
    "    kf=KFold(folds)\n",
    "    #kf.get_n_splits(X)\n",
    "\n",
    "    for train_index,test_index in kf.split(X):\n",
    "        cv_trainx,cv_trainy=X[train_index],Y[train_index]\n",
    "        cv_testx,cv_testy=X[test_index],Y[test_index]\n",
    "        \n",
    "        # Build the model on the cv_train and predict on cv_test\n",
    "        m=sm.OLS(cv_trainy,cv_trainx).fit()\n",
    "        p=m.predict(cv_testx)\n",
    "    \n",
    "        # store MSE in the list for each model\n",
    "        cv_mse.append(np.round(mean_squared_error(cv_testy,p),3))\n",
    "        \n",
    "        cv_mse    \n",
    "\n",
    "    # Calculate the mean MSE of K-Fold cross validation\n",
    "    return(np.mean(cv_mse))\n",
    "\n",
    "def Normality(data,cols):\n",
    "    # Agistino-Pearson test for normality\n",
    "    # H0: normal distribution\n",
    "    # H1: not a normal distribution\n",
    "\n",
    "    # create a k-v pair to store column names and its corresponding distribution type (Normal/Not Normal)\n",
    "    aptest={}\n",
    "\n",
    "    for c in cols:\n",
    "        tstat,pval = normaltest(data[c])\n",
    "        if pval < 0.05:\n",
    "            aptest[c]=\"Not Normal\"\n",
    "        else:\n",
    "            aptest[c]=\"Normal\"\n",
    "\n",
    "    df=pd.DataFrame(list(aptest.items()),columns=['Features','Distribution'])\n",
    "    return(df)"
   ]
  },
  {
   "cell_type": "code",
   "execution_count": 20,
   "id": "6cbf8441",
   "metadata": {},
   "outputs": [],
   "source": [
    "## Converting categorical data into dummies.\n",
    "data2=data1.copy()\n",
    "data2 = pd.get_dummies(data2,columns=['status','country'])"
   ]
  },
  {
   "cell_type": "code",
   "execution_count": 21,
   "id": "9e6f7e67",
   "metadata": {},
   "outputs": [
    {
     "name": "stdout",
     "output_type": "stream",
     "text": [
      "trainx=(492, 41),trainy=(492,),testx=(124, 41),testy=(124,)\n"
     ]
    }
   ],
   "source": [
    "trainx,testx,trainy,testy=train_test_split(data2.drop('life_expectancy',axis=1), data2['life_expectancy'],test_size=0.2) ## Single step process.\n",
    "print(\"trainx={},trainy={},testx={},testy={}\".format(trainx.shape,trainy.shape,testx.shape,testy.shape))\n"
   ]
  },
  {
   "cell_type": "code",
   "execution_count": 22,
   "id": "20a19c5c",
   "metadata": {},
   "outputs": [],
   "source": [
    "# Cross Validation\n",
    "m1_LR_CV=CrossValidation_LR(trainx,trainy,5)"
   ]
  },
  {
   "cell_type": "code",
   "execution_count": 23,
   "id": "ad8f8d60",
   "metadata": {},
   "outputs": [],
   "source": [
    "trainx=sm.add_constant(trainx)\n",
    "testx=sm.add_constant(testx)"
   ]
  },
  {
   "cell_type": "code",
   "execution_count": 24,
   "id": "e4ffd523",
   "metadata": {},
   "outputs": [],
   "source": [
    "model=LR_Model(trainx,testx,trainy,testy)"
   ]
  },
  {
   "cell_type": "code",
   "execution_count": 25,
   "id": "26757452",
   "metadata": {},
   "outputs": [],
   "source": [
    "# Model\n",
    "m1_LR=model[0]"
   ]
  },
  {
   "cell_type": "code",
   "execution_count": 26,
   "id": "33587b94",
   "metadata": {},
   "outputs": [
    {
     "data": {
      "text/html": [
       "<table class=\"simpletable\">\n",
       "<caption>OLS Regression Results</caption>\n",
       "<tr>\n",
       "  <th>Dep. Variable:</th>     <td>life_expectancy</td> <th>  R-squared:         </th> <td>   0.986</td>\n",
       "</tr>\n",
       "<tr>\n",
       "  <th>Model:</th>                   <td>OLS</td>       <th>  Adj. R-squared:    </th> <td>   0.985</td>\n",
       "</tr>\n",
       "<tr>\n",
       "  <th>Method:</th>             <td>Least Squares</td>  <th>  F-statistic:       </th> <td>   801.7</td>\n",
       "</tr>\n",
       "<tr>\n",
       "  <th>Date:</th>             <td>Tue, 18 May 2021</td> <th>  Prob (F-statistic):</th>  <td>  0.00</td> \n",
       "</tr>\n",
       "<tr>\n",
       "  <th>Time:</th>                 <td>17:00:31</td>     <th>  Log-Likelihood:    </th> <td> -518.12</td>\n",
       "</tr>\n",
       "<tr>\n",
       "  <th>No. Observations:</th>      <td>   492</td>      <th>  AIC:               </th> <td>   1116.</td>\n",
       "</tr>\n",
       "<tr>\n",
       "  <th>Df Residuals:</th>          <td>   452</td>      <th>  BIC:               </th> <td>   1284.</td>\n",
       "</tr>\n",
       "<tr>\n",
       "  <th>Df Model:</th>              <td>    39</td>      <th>                     </th>     <td> </td>   \n",
       "</tr>\n",
       "<tr>\n",
       "  <th>Covariance Type:</th>      <td>nonrobust</td>    <th>                     </th>     <td> </td>   \n",
       "</tr>\n",
       "</table>\n",
       "<table class=\"simpletable\">\n",
       "<tr>\n",
       "                                <td></td>                                  <th>coef</th>     <th>std err</th>      <th>t</th>      <th>P>|t|</th>  <th>[0.025</th>    <th>0.975]</th>  \n",
       "</tr>\n",
       "<tr>\n",
       "  <th>const</th>                                                        <td> -103.1266</td> <td>   12.619</td> <td>   -8.172</td> <td> 0.000</td> <td> -127.926</td> <td>  -78.327</td>\n",
       "</tr>\n",
       "<tr>\n",
       "  <th>year</th>                                                         <td>    0.1123</td> <td>    0.010</td> <td>   11.274</td> <td> 0.000</td> <td>    0.093</td> <td>    0.132</td>\n",
       "</tr>\n",
       "<tr>\n",
       "  <th>adult_mortality</th>                                              <td>   -0.0040</td> <td>    0.001</td> <td>   -3.247</td> <td> 0.001</td> <td>   -0.006</td> <td>   -0.002</td>\n",
       "</tr>\n",
       "<tr>\n",
       "  <th>alcohol</th>                                                      <td>   -0.0689</td> <td>    0.052</td> <td>   -1.329</td> <td> 0.184</td> <td>   -0.171</td> <td>    0.033</td>\n",
       "</tr>\n",
       "<tr>\n",
       "  <th>percentage_exp</th>                                               <td> 5.028e-05</td> <td> 2.35e-05</td> <td>    2.138</td> <td> 0.033</td> <td> 4.07e-06</td> <td> 9.65e-05</td>\n",
       "</tr>\n",
       "<tr>\n",
       "  <th>hepatitis_B</th>                                                  <td>    0.0084</td> <td>    0.003</td> <td>    2.420</td> <td> 0.016</td> <td>    0.002</td> <td>    0.015</td>\n",
       "</tr>\n",
       "<tr>\n",
       "  <th>bmi</th>                                                          <td>   -0.0048</td> <td>    0.004</td> <td>   -1.287</td> <td> 0.199</td> <td>   -0.012</td> <td>    0.003</td>\n",
       "</tr>\n",
       "<tr>\n",
       "  <th>polio</th>                                                        <td>   -0.0027</td> <td>    0.005</td> <td>   -0.524</td> <td> 0.601</td> <td>   -0.013</td> <td>    0.007</td>\n",
       "</tr>\n",
       "<tr>\n",
       "  <th>total_expenditure</th>                                            <td>    0.0153</td> <td>    0.031</td> <td>    0.490</td> <td> 0.624</td> <td>   -0.046</td> <td>    0.077</td>\n",
       "</tr>\n",
       "<tr>\n",
       "  <th>hiv_or_aids</th>                                                  <td>   -0.2279</td> <td>    0.019</td> <td>  -12.025</td> <td> 0.000</td> <td>   -0.265</td> <td>   -0.191</td>\n",
       "</tr>\n",
       "<tr>\n",
       "  <th>population</th>                                                   <td> 8.919e-09</td> <td> 1.84e-09</td> <td>    4.856</td> <td> 0.000</td> <td> 5.31e-09</td> <td> 1.25e-08</td>\n",
       "</tr>\n",
       "<tr>\n",
       "  <th>schooling</th>                                                    <td>    0.6078</td> <td>    0.064</td> <td>    9.446</td> <td> 0.000</td> <td>    0.481</td> <td>    0.734</td>\n",
       "</tr>\n",
       "<tr>\n",
       "  <th>status_Developed</th>                                             <td>  -44.4141</td> <td>    6.264</td> <td>   -7.091</td> <td> 0.000</td> <td>  -56.723</td> <td>  -32.105</td>\n",
       "</tr>\n",
       "<tr>\n",
       "  <th>status_Developing</th>                                            <td>  -58.7126</td> <td>    6.389</td> <td>   -9.190</td> <td> 0.000</td> <td>  -71.268</td> <td>  -46.157</td>\n",
       "</tr>\n",
       "<tr>\n",
       "  <th>country_Argentina</th>                                            <td>    1.2508</td> <td>    0.623</td> <td>    2.009</td> <td> 0.045</td> <td>    0.027</td> <td>    2.475</td>\n",
       "</tr>\n",
       "<tr>\n",
       "  <th>country_Belgium</th>                                              <td>   -8.2870</td> <td>    0.707</td> <td>  -11.717</td> <td> 0.000</td> <td>   -9.677</td> <td>   -6.897</td>\n",
       "</tr>\n",
       "<tr>\n",
       "  <th>country_Brazil</th>                                               <td>   -0.9629</td> <td>    0.543</td> <td>   -1.774</td> <td> 0.077</td> <td>   -2.030</td> <td>    0.104</td>\n",
       "</tr>\n",
       "<tr>\n",
       "  <th>country_Canada</th>                                               <td>    7.5085</td> <td>    0.646</td> <td>   11.628</td> <td> 0.000</td> <td>    6.239</td> <td>    8.777</td>\n",
       "</tr>\n",
       "<tr>\n",
       "  <th>country_Chile</th>                                                <td>    5.2683</td> <td>    0.658</td> <td>    8.004</td> <td> 0.000</td> <td>    3.975</td> <td>    6.562</td>\n",
       "</tr>\n",
       "<tr>\n",
       "  <th>country_Colombia</th>                                             <td>    3.5850</td> <td>    0.632</td> <td>    5.675</td> <td> 0.000</td> <td>    2.343</td> <td>    4.827</td>\n",
       "</tr>\n",
       "<tr>\n",
       "  <th>country_France</th>                                               <td>    7.4824</td> <td>    0.721</td> <td>   10.378</td> <td> 0.000</td> <td>    6.066</td> <td>    8.899</td>\n",
       "</tr>\n",
       "<tr>\n",
       "  <th>country_Germany</th>                                              <td>   -8.9697</td> <td>    0.673</td> <td>  -13.321</td> <td> 0.000</td> <td>  -10.293</td> <td>   -7.646</td>\n",
       "</tr>\n",
       "<tr>\n",
       "  <th>country_India</th>                                                <td>  -14.1711</td> <td>    2.179</td> <td>   -6.503</td> <td> 0.000</td> <td>  -18.454</td> <td>   -9.888</td>\n",
       "</tr>\n",
       "<tr>\n",
       "  <th>country_Indonesia</th>                                            <td>   -4.3014</td> <td>    0.745</td> <td>   -5.774</td> <td> 0.000</td> <td>   -5.765</td> <td>   -2.837</td>\n",
       "</tr>\n",
       "<tr>\n",
       "  <th>country_Iran </th>                                                <td>    0.9630</td> <td>    0.636</td> <td>    1.514</td> <td> 0.131</td> <td>   -0.287</td> <td>    2.213</td>\n",
       "</tr>\n",
       "<tr>\n",
       "  <th>country_Iraq</th>                                                 <td>   -0.7484</td> <td>    0.749</td> <td>   -0.999</td> <td> 0.318</td> <td>   -2.221</td> <td>    0.724</td>\n",
       "</tr>\n",
       "<tr>\n",
       "  <th>country_Italy</th>                                                <td>   -6.6990</td> <td>    0.684</td> <td>   -9.796</td> <td> 0.000</td> <td>   -8.043</td> <td>   -5.355</td>\n",
       "</tr>\n",
       "<tr>\n",
       "  <th>country_Mexico</th>                                               <td>    2.4814</td> <td>    0.609</td> <td>    4.075</td> <td> 0.000</td> <td>    1.285</td> <td>    3.678</td>\n",
       "</tr>\n",
       "<tr>\n",
       "  <th>country_Netherlands</th>                                          <td>   -8.2904</td> <td>    0.671</td> <td>  -12.361</td> <td> 0.000</td> <td>   -9.608</td> <td>   -6.972</td>\n",
       "</tr>\n",
       "<tr>\n",
       "  <th>country_Peru</th>                                                 <td>    2.5240</td> <td>    0.645</td> <td>    3.916</td> <td> 0.000</td> <td>    1.257</td> <td>    3.791</td>\n",
       "</tr>\n",
       "<tr>\n",
       "  <th>country_Philippines</th>                                          <td>   -1.2099</td> <td>    0.679</td> <td>   -1.781</td> <td> 0.076</td> <td>   -2.545</td> <td>    0.125</td>\n",
       "</tr>\n",
       "<tr>\n",
       "  <th>country_Poland</th>                                               <td>  -10.9863</td> <td>    0.748</td> <td>  -14.688</td> <td> 0.000</td> <td>  -12.456</td> <td>   -9.516</td>\n",
       "</tr>\n",
       "<tr>\n",
       "  <th>country_Romania</th>                                              <td>  -12.6948</td> <td>    0.800</td> <td>  -15.875</td> <td> 0.000</td> <td>  -14.266</td> <td>  -11.123</td>\n",
       "</tr>\n",
       "<tr>\n",
       "  <th>country_Russian Federation</th>                                   <td>   -3.7351</td> <td>    0.645</td> <td>   -5.794</td> <td> 0.000</td> <td>   -5.002</td> <td>   -2.468</td>\n",
       "</tr>\n",
       "<tr>\n",
       "  <th>country_South Africa</th>                                         <td>   -8.8209</td> <td>    0.703</td> <td>  -12.540</td> <td> 0.000</td> <td>  -10.203</td> <td>   -7.438</td>\n",
       "</tr>\n",
       "<tr>\n",
       "  <th>country_Spain</th>                                                <td>   -7.0275</td> <td>    0.669</td> <td>  -10.510</td> <td> 0.000</td> <td>   -8.342</td> <td>   -5.713</td>\n",
       "</tr>\n",
       "<tr>\n",
       "  <th>country_Sweden</th>                                               <td>   -6.5293</td> <td>    0.749</td> <td>   -8.712</td> <td> 0.000</td> <td>   -8.002</td> <td>   -5.056</td>\n",
       "</tr>\n",
       "<tr>\n",
       "  <th>country_Turkey</th>                                               <td>    1.7531</td> <td>    0.611</td> <td>    2.870</td> <td> 0.004</td> <td>    0.553</td> <td>    2.953</td>\n",
       "</tr>\n",
       "<tr>\n",
       "  <th>country_Ukraine</th>                                              <td>   -2.4581</td> <td>    0.610</td> <td>   -4.031</td> <td> 0.000</td> <td>   -3.657</td> <td>   -1.260</td>\n",
       "</tr>\n",
       "<tr>\n",
       "  <th>country_United Kingdom of Great Britain and Northern Ireland</th> <td>   -8.3227</td> <td>    0.699</td> <td>  -11.913</td> <td> 0.000</td> <td>   -9.696</td> <td>   -6.950</td>\n",
       "</tr>\n",
       "<tr>\n",
       "  <th>country_United States of America</th>                             <td>  -12.6665</td> <td>    0.830</td> <td>  -15.265</td> <td> 0.000</td> <td>  -14.297</td> <td>  -11.036</td>\n",
       "</tr>\n",
       "<tr>\n",
       "  <th>country_czech republic</th>                                       <td>   -9.0622</td> <td>    0.775</td> <td>  -11.700</td> <td> 0.000</td> <td>  -10.584</td> <td>   -7.540</td>\n",
       "</tr>\n",
       "</table>\n",
       "<table class=\"simpletable\">\n",
       "<tr>\n",
       "  <th>Omnibus:</th>       <td>65.005</td> <th>  Durbin-Watson:     </th> <td>   2.177</td>\n",
       "</tr>\n",
       "<tr>\n",
       "  <th>Prob(Omnibus):</th> <td> 0.000</td> <th>  Jarque-Bera (JB):  </th> <td> 132.649</td>\n",
       "</tr>\n",
       "<tr>\n",
       "  <th>Skew:</th>          <td>-0.743</td> <th>  Prob(JB):          </th> <td>1.57e-29</td>\n",
       "</tr>\n",
       "<tr>\n",
       "  <th>Kurtosis:</th>      <td> 5.064</td> <th>  Cond. No.          </th> <td>1.12e+16</td>\n",
       "</tr>\n",
       "</table><br/><br/>Notes:<br/>[1] Standard Errors assume that the covariance matrix of the errors is correctly specified.<br/>[2] The smallest eigenvalue is 2.87e-13. This might indicate that there are<br/>strong multicollinearity problems or that the design matrix is singular."
      ],
      "text/plain": [
       "<class 'statsmodels.iolib.summary.Summary'>\n",
       "\"\"\"\n",
       "                            OLS Regression Results                            \n",
       "==============================================================================\n",
       "Dep. Variable:        life_expectancy   R-squared:                       0.986\n",
       "Model:                            OLS   Adj. R-squared:                  0.985\n",
       "Method:                 Least Squares   F-statistic:                     801.7\n",
       "Date:                Tue, 18 May 2021   Prob (F-statistic):               0.00\n",
       "Time:                        17:00:31   Log-Likelihood:                -518.12\n",
       "No. Observations:                 492   AIC:                             1116.\n",
       "Df Residuals:                     452   BIC:                             1284.\n",
       "Df Model:                          39                                         \n",
       "Covariance Type:            nonrobust                                         \n",
       "================================================================================================================================\n",
       "                                                                   coef    std err          t      P>|t|      [0.025      0.975]\n",
       "--------------------------------------------------------------------------------------------------------------------------------\n",
       "const                                                         -103.1266     12.619     -8.172      0.000    -127.926     -78.327\n",
       "year                                                             0.1123      0.010     11.274      0.000       0.093       0.132\n",
       "adult_mortality                                                 -0.0040      0.001     -3.247      0.001      -0.006      -0.002\n",
       "alcohol                                                         -0.0689      0.052     -1.329      0.184      -0.171       0.033\n",
       "percentage_exp                                                5.028e-05   2.35e-05      2.138      0.033    4.07e-06    9.65e-05\n",
       "hepatitis_B                                                      0.0084      0.003      2.420      0.016       0.002       0.015\n",
       "bmi                                                             -0.0048      0.004     -1.287      0.199      -0.012       0.003\n",
       "polio                                                           -0.0027      0.005     -0.524      0.601      -0.013       0.007\n",
       "total_expenditure                                                0.0153      0.031      0.490      0.624      -0.046       0.077\n",
       "hiv_or_aids                                                     -0.2279      0.019    -12.025      0.000      -0.265      -0.191\n",
       "population                                                    8.919e-09   1.84e-09      4.856      0.000    5.31e-09    1.25e-08\n",
       "schooling                                                        0.6078      0.064      9.446      0.000       0.481       0.734\n",
       "status_Developed                                               -44.4141      6.264     -7.091      0.000     -56.723     -32.105\n",
       "status_Developing                                              -58.7126      6.389     -9.190      0.000     -71.268     -46.157\n",
       "country_Argentina                                                1.2508      0.623      2.009      0.045       0.027       2.475\n",
       "country_Belgium                                                 -8.2870      0.707    -11.717      0.000      -9.677      -6.897\n",
       "country_Brazil                                                  -0.9629      0.543     -1.774      0.077      -2.030       0.104\n",
       "country_Canada                                                   7.5085      0.646     11.628      0.000       6.239       8.777\n",
       "country_Chile                                                    5.2683      0.658      8.004      0.000       3.975       6.562\n",
       "country_Colombia                                                 3.5850      0.632      5.675      0.000       2.343       4.827\n",
       "country_France                                                   7.4824      0.721     10.378      0.000       6.066       8.899\n",
       "country_Germany                                                 -8.9697      0.673    -13.321      0.000     -10.293      -7.646\n",
       "country_India                                                  -14.1711      2.179     -6.503      0.000     -18.454      -9.888\n",
       "country_Indonesia                                               -4.3014      0.745     -5.774      0.000      -5.765      -2.837\n",
       "country_Iran                                                     0.9630      0.636      1.514      0.131      -0.287       2.213\n",
       "country_Iraq                                                    -0.7484      0.749     -0.999      0.318      -2.221       0.724\n",
       "country_Italy                                                   -6.6990      0.684     -9.796      0.000      -8.043      -5.355\n",
       "country_Mexico                                                   2.4814      0.609      4.075      0.000       1.285       3.678\n",
       "country_Netherlands                                             -8.2904      0.671    -12.361      0.000      -9.608      -6.972\n",
       "country_Peru                                                     2.5240      0.645      3.916      0.000       1.257       3.791\n",
       "country_Philippines                                             -1.2099      0.679     -1.781      0.076      -2.545       0.125\n",
       "country_Poland                                                 -10.9863      0.748    -14.688      0.000     -12.456      -9.516\n",
       "country_Romania                                                -12.6948      0.800    -15.875      0.000     -14.266     -11.123\n",
       "country_Russian Federation                                      -3.7351      0.645     -5.794      0.000      -5.002      -2.468\n",
       "country_South Africa                                            -8.8209      0.703    -12.540      0.000     -10.203      -7.438\n",
       "country_Spain                                                   -7.0275      0.669    -10.510      0.000      -8.342      -5.713\n",
       "country_Sweden                                                  -6.5293      0.749     -8.712      0.000      -8.002      -5.056\n",
       "country_Turkey                                                   1.7531      0.611      2.870      0.004       0.553       2.953\n",
       "country_Ukraine                                                 -2.4581      0.610     -4.031      0.000      -3.657      -1.260\n",
       "country_United Kingdom of Great Britain and Northern Ireland    -8.3227      0.699    -11.913      0.000      -9.696      -6.950\n",
       "country_United States of America                               -12.6665      0.830    -15.265      0.000     -14.297     -11.036\n",
       "country_czech republic                                          -9.0622      0.775    -11.700      0.000     -10.584      -7.540\n",
       "==============================================================================\n",
       "Omnibus:                       65.005   Durbin-Watson:                   2.177\n",
       "Prob(Omnibus):                  0.000   Jarque-Bera (JB):              132.649\n",
       "Skew:                          -0.743   Prob(JB):                     1.57e-29\n",
       "Kurtosis:                       5.064   Cond. No.                     1.12e+16\n",
       "==============================================================================\n",
       "\n",
       "Notes:\n",
       "[1] Standard Errors assume that the covariance matrix of the errors is correctly specified.\n",
       "[2] The smallest eigenvalue is 2.87e-13. This might indicate that there are\n",
       "strong multicollinearity problems or that the design matrix is singular.\n",
       "\"\"\""
      ]
     },
     "execution_count": 26,
     "metadata": {},
     "output_type": "execute_result"
    }
   ],
   "source": [
    "# Summary\n",
    "model[1]"
   ]
  },
  {
   "cell_type": "code",
   "execution_count": 27,
   "id": "e03a62d4",
   "metadata": {},
   "outputs": [
    {
     "name": "stdout",
     "output_type": "stream",
     "text": [
      "0.55\n"
     ]
    }
   ],
   "source": [
    "# MSE\n",
    "m1_LR_mse=model[2]\n",
    "print()"
   ]
  },
  {
   "cell_type": "code",
   "execution_count": 28,
   "id": "e34c6ebb",
   "metadata": {},
   "outputs": [
    {
     "name": "stdout",
     "output_type": "stream",
     "text": [
      "-3.785887375953258e-10\n"
     ]
    }
   ],
   "source": [
    "## Validation of assumptions\n",
    "\n",
    "# 1.) mean of residual=0\n",
    "print(m1_LR.resid.mean())"
   ]
  },
  {
   "cell_type": "code",
   "execution_count": 31,
   "id": "ecd6dcac",
   "metadata": {},
   "outputs": [
    {
     "name": "stdout",
     "output_type": "stream",
     "text": [
      "Reject H0. Model is Heteroscedastic\n"
     ]
    },
    {
     "name": "stderr",
     "output_type": "stream",
     "text": [
      "C:\\Users\\Lenovo\\anaconda3\\envs\\tensorflow\\lib\\site-packages\\seaborn\\_decorators.py:36: FutureWarning: Pass the following variables as keyword args: x, y. From version 0.12, the only valid positional argument will be `data`, and passing other arguments without an explicit keyword will result in an error or misinterpretation.\n",
      "  warnings.warn(\n"
     ]
    }
   ],
   "source": [
    "## PLot the graph (errors)\n",
    "yhat=m1_LR.predict(trainx)\n",
    "sns.set(style=\"whitegrid\")\n",
    "sns.residplot(m1_LR.resid,yhat,lowess=True,color='g')\n",
    "\n",
    "## bruesch-pagan test against hetero\n",
    "import statsmodels.stats.api as sms\n",
    "\n",
    "# H0: Homoscedasticity \n",
    "# H1: Heteroscedasticity\n",
    "\n",
    "# return value of breusch pagan test\n",
    "# lagrange_multiplier,p-value,f-score,fp-value\n",
    "\n",
    "# parameters: [residuals, x-array]\n",
    "pval=sms.het_breuschpagan(m1_LR.resid,m1_LR.model.exog)[1]\n",
    "\n",
    "if pval<0.05:\n",
    "    print(\"Reject H0. Model is Heteroscedastic\")\n",
    "else:\n",
    "    print(\"FTR H0: MOdel is Homoscedastic\")\n",
    "\n",
    "# Model is hetero"
   ]
  },
  {
   "cell_type": "code",
   "execution_count": 32,
   "id": "60525036",
   "metadata": {},
   "outputs": [],
   "source": [
    "# iii.) Residuals have the normal distribution\n",
    "from matplotlib import pylab\n",
    "\n",
    "stats.probplot(m1_LR.resid,dist='norm',plot=pylab)\n",
    "pylab.show()"
   ]
  },
  {
   "cell_type": "code",
   "execution_count": 29,
   "id": "1dcf0cdc",
   "metadata": {},
   "outputs": [
    {
     "data": {
      "text/plain": [
       "(616, 42)"
      ]
     },
     "execution_count": 29,
     "metadata": {},
     "output_type": "execute_result"
    }
   ],
   "source": [
    "# iv.) rows>columns\n",
    "data2.shape"
   ]
  },
  {
   "cell_type": "code",
   "execution_count": null,
   "id": "850732a4",
   "metadata": {},
   "outputs": [],
   "source": []
  },
  {
   "cell_type": "code",
   "execution_count": 32,
   "id": "eba4c6e7",
   "metadata": {},
   "outputs": [
    {
     "name": "stdout",
     "output_type": "stream",
     "text": [
      "{'year': 'Not Normal', 'adult_mortality': 'Not Normal', 'alcohol': 'Not Normal', 'percentage_exp': 'Not Normal', 'hepatitis_B': 'Not Normal', 'bmi': 'Not Normal', 'polio': 'Not Normal', 'total_expenditure': 'Not Normal', 'hiv_or_aids': 'Not Normal', 'population': 'Not Normal', 'schooling': 'Not Normal', 'life_expectancy': 'Not Normal'}\n"
     ]
    },
    {
     "data": {
      "text/html": [
       "<div>\n",
       "<style scoped>\n",
       "    .dataframe tbody tr th:only-of-type {\n",
       "        vertical-align: middle;\n",
       "    }\n",
       "\n",
       "    .dataframe tbody tr th {\n",
       "        vertical-align: top;\n",
       "    }\n",
       "\n",
       "    .dataframe thead th {\n",
       "        text-align: right;\n",
       "    }\n",
       "</style>\n",
       "<table border=\"1\" class=\"dataframe\">\n",
       "  <thead>\n",
       "    <tr style=\"text-align: right;\">\n",
       "      <th></th>\n",
       "      <th>Features</th>\n",
       "      <th>Distribution</th>\n",
       "    </tr>\n",
       "  </thead>\n",
       "  <tbody>\n",
       "    <tr>\n",
       "      <th>0</th>\n",
       "      <td>year</td>\n",
       "      <td>Not Normal</td>\n",
       "    </tr>\n",
       "    <tr>\n",
       "      <th>1</th>\n",
       "      <td>adult_mortality</td>\n",
       "      <td>Not Normal</td>\n",
       "    </tr>\n",
       "    <tr>\n",
       "      <th>2</th>\n",
       "      <td>alcohol</td>\n",
       "      <td>Not Normal</td>\n",
       "    </tr>\n",
       "    <tr>\n",
       "      <th>3</th>\n",
       "      <td>percentage_exp</td>\n",
       "      <td>Not Normal</td>\n",
       "    </tr>\n",
       "    <tr>\n",
       "      <th>4</th>\n",
       "      <td>hepatitis_B</td>\n",
       "      <td>Not Normal</td>\n",
       "    </tr>\n",
       "    <tr>\n",
       "      <th>5</th>\n",
       "      <td>bmi</td>\n",
       "      <td>Not Normal</td>\n",
       "    </tr>\n",
       "    <tr>\n",
       "      <th>6</th>\n",
       "      <td>polio</td>\n",
       "      <td>Not Normal</td>\n",
       "    </tr>\n",
       "    <tr>\n",
       "      <th>7</th>\n",
       "      <td>total_expenditure</td>\n",
       "      <td>Not Normal</td>\n",
       "    </tr>\n",
       "    <tr>\n",
       "      <th>8</th>\n",
       "      <td>hiv_or_aids</td>\n",
       "      <td>Not Normal</td>\n",
       "    </tr>\n",
       "    <tr>\n",
       "      <th>9</th>\n",
       "      <td>population</td>\n",
       "      <td>Not Normal</td>\n",
       "    </tr>\n",
       "    <tr>\n",
       "      <th>10</th>\n",
       "      <td>schooling</td>\n",
       "      <td>Not Normal</td>\n",
       "    </tr>\n",
       "    <tr>\n",
       "      <th>11</th>\n",
       "      <td>life_expectancy</td>\n",
       "      <td>Not Normal</td>\n",
       "    </tr>\n",
       "  </tbody>\n",
       "</table>\n",
       "</div>"
      ],
      "text/plain": [
       "             Features Distribution\n",
       "0                year   Not Normal\n",
       "1     adult_mortality   Not Normal\n",
       "2             alcohol   Not Normal\n",
       "3      percentage_exp   Not Normal\n",
       "4         hepatitis_B   Not Normal\n",
       "5                 bmi   Not Normal\n",
       "6               polio   Not Normal\n",
       "7   total_expenditure   Not Normal\n",
       "8         hiv_or_aids   Not Normal\n",
       "9          population   Not Normal\n",
       "10          schooling   Not Normal\n",
       "11    life_expectancy   Not Normal"
      ]
     },
     "execution_count": 32,
     "metadata": {},
     "output_type": "execute_result"
    }
   ],
   "source": [
    "# v.) Multicollinearity check have been done above\n",
    "\n",
    "# vi.) Normality check\n",
    "\n",
    "# Agistino-Pearson test for normality\n",
    "# H0: normal distribution\n",
    "# H1: not a normal distribution\n",
    "\n",
    "from scipy.stats import normaltest\n",
    "\n",
    "# create a k-v pair to store column names and its corresponding distribution type (Normal/Not Normal)\n",
    "aptest={}\n",
    "\n",
    "for c in cols:\n",
    "    tstat,pval = normaltest(data2[c])\n",
    "    if pval < 0.05:\n",
    "        aptest[c]=\"Not Normal\"\n",
    "    else:\n",
    "        aptest[c]=\"Normal\"\n",
    "\n",
    "print(aptest) # No feature is normal.\n",
    "\n",
    "df=pd.DataFrame(list(aptest.items()),columns=['Features','Distribution'])\n",
    "df"
   ]
  },
  {
   "cell_type": "code",
   "execution_count": 33,
   "id": "8a879dd3",
   "metadata": {},
   "outputs": [
    {
     "data": {
      "text/plain": [
       "112    70.310868\n",
       "150    78.299164\n",
       "542    69.421048\n",
       "534    70.422847\n",
       "457    79.068231\n",
       "         ...    \n",
       "137    80.777777\n",
       "295    74.141423\n",
       "589    80.433847\n",
       "314    75.461584\n",
       "280    75.213949\n",
       "Length: 124, dtype: float64"
      ]
     },
     "execution_count": 33,
     "metadata": {},
     "output_type": "execute_result"
    }
   ],
   "source": [
    "# Predictions\n",
    "p1_LR=m1_LR.predict(testx)\n",
    "p1_LR"
   ]
  },
  {
   "cell_type": "code",
   "execution_count": 35,
   "id": "a90b107b",
   "metadata": {},
   "outputs": [
    {
     "name": "stdout",
     "output_type": "stream",
     "text": [
      "Training MSE = 0.6666 , Testing MSE = 0.55\n"
     ]
    },
    {
     "data": {
      "text/html": [
       "<div>\n",
       "<style scoped>\n",
       "    .dataframe tbody tr th:only-of-type {\n",
       "        vertical-align: middle;\n",
       "    }\n",
       "\n",
       "    .dataframe tbody tr th {\n",
       "        vertical-align: top;\n",
       "    }\n",
       "\n",
       "    .dataframe thead th {\n",
       "        text-align: right;\n",
       "    }\n",
       "</style>\n",
       "<table border=\"1\" class=\"dataframe\">\n",
       "  <thead>\n",
       "    <tr style=\"text-align: right;\">\n",
       "      <th></th>\n",
       "      <th>actual</th>\n",
       "      <th>predicted</th>\n",
       "    </tr>\n",
       "  </thead>\n",
       "  <tbody>\n",
       "    <tr>\n",
       "      <th>112</th>\n",
       "      <td>73.08</td>\n",
       "      <td>70.31</td>\n",
       "    </tr>\n",
       "    <tr>\n",
       "      <th>150</th>\n",
       "      <td>78.41</td>\n",
       "      <td>78.30</td>\n",
       "    </tr>\n",
       "    <tr>\n",
       "      <th>542</th>\n",
       "      <td>69.33</td>\n",
       "      <td>69.42</td>\n",
       "    </tr>\n",
       "    <tr>\n",
       "      <th>534</th>\n",
       "      <td>70.55</td>\n",
       "      <td>70.42</td>\n",
       "    </tr>\n",
       "    <tr>\n",
       "      <th>457</th>\n",
       "      <td>78.97</td>\n",
       "      <td>79.07</td>\n",
       "    </tr>\n",
       "    <tr>\n",
       "      <th>447</th>\n",
       "      <td>81.46</td>\n",
       "      <td>81.19</td>\n",
       "    </tr>\n",
       "    <tr>\n",
       "      <th>32</th>\n",
       "      <td>73.72</td>\n",
       "      <td>72.73</td>\n",
       "    </tr>\n",
       "    <tr>\n",
       "      <th>377</th>\n",
       "      <td>71.41</td>\n",
       "      <td>70.42</td>\n",
       "    </tr>\n",
       "    <tr>\n",
       "      <th>569</th>\n",
       "      <td>71.12</td>\n",
       "      <td>71.15</td>\n",
       "    </tr>\n",
       "    <tr>\n",
       "      <th>584</th>\n",
       "      <td>81.40</td>\n",
       "      <td>81.03</td>\n",
       "    </tr>\n",
       "    <tr>\n",
       "      <th>170</th>\n",
       "      <td>80.78</td>\n",
       "      <td>80.86</td>\n",
       "    </tr>\n",
       "    <tr>\n",
       "      <th>458</th>\n",
       "      <td>78.67</td>\n",
       "      <td>78.89</td>\n",
       "    </tr>\n",
       "    <tr>\n",
       "      <th>12</th>\n",
       "      <td>78.34</td>\n",
       "      <td>78.39</td>\n",
       "    </tr>\n",
       "    <tr>\n",
       "      <th>469</th>\n",
       "      <td>81.88</td>\n",
       "      <td>81.64</td>\n",
       "    </tr>\n",
       "    <tr>\n",
       "      <th>286</th>\n",
       "      <td>74.79</td>\n",
       "      <td>75.85</td>\n",
       "    </tr>\n",
       "    <tr>\n",
       "      <th>75</th>\n",
       "      <td>81.74</td>\n",
       "      <td>81.18</td>\n",
       "    </tr>\n",
       "    <tr>\n",
       "      <th>48</th>\n",
       "      <td>68.97</td>\n",
       "      <td>69.11</td>\n",
       "    </tr>\n",
       "    <tr>\n",
       "      <th>547</th>\n",
       "      <td>68.82</td>\n",
       "      <td>68.39</td>\n",
       "    </tr>\n",
       "    <tr>\n",
       "      <th>282</th>\n",
       "      <td>74.70</td>\n",
       "      <td>75.32</td>\n",
       "    </tr>\n",
       "    <tr>\n",
       "      <th>269</th>\n",
       "      <td>77.94</td>\n",
       "      <td>77.50</td>\n",
       "    </tr>\n",
       "    <tr>\n",
       "      <th>610</th>\n",
       "      <td>78.86</td>\n",
       "      <td>78.57</td>\n",
       "    </tr>\n",
       "    <tr>\n",
       "      <th>294</th>\n",
       "      <td>75.04</td>\n",
       "      <td>75.12</td>\n",
       "    </tr>\n",
       "    <tr>\n",
       "      <th>520</th>\n",
       "      <td>68.15</td>\n",
       "      <td>68.46</td>\n",
       "    </tr>\n",
       "    <tr>\n",
       "      <th>224</th>\n",
       "      <td>76.26</td>\n",
       "      <td>76.46</td>\n",
       "    </tr>\n",
       "    <tr>\n",
       "      <th>493</th>\n",
       "      <td>79.07</td>\n",
       "      <td>78.63</td>\n",
       "    </tr>\n",
       "    <tr>\n",
       "      <th>78</th>\n",
       "      <td>81.15</td>\n",
       "      <td>80.81</td>\n",
       "    </tr>\n",
       "    <tr>\n",
       "      <th>382</th>\n",
       "      <td>68.70</td>\n",
       "      <td>69.70</td>\n",
       "    </tr>\n",
       "    <tr>\n",
       "      <th>297</th>\n",
       "      <td>73.65</td>\n",
       "      <td>73.38</td>\n",
       "    </tr>\n",
       "    <tr>\n",
       "      <th>217</th>\n",
       "      <td>78.40</td>\n",
       "      <td>78.18</td>\n",
       "    </tr>\n",
       "    <tr>\n",
       "      <th>558</th>\n",
       "      <td>74.94</td>\n",
       "      <td>74.21</td>\n",
       "    </tr>\n",
       "  </tbody>\n",
       "</table>\n",
       "</div>"
      ],
      "text/plain": [
       "     actual  predicted\n",
       "112   73.08      70.31\n",
       "150   78.41      78.30\n",
       "542   69.33      69.42\n",
       "534   70.55      70.42\n",
       "457   78.97      79.07\n",
       "447   81.46      81.19\n",
       "32    73.72      72.73\n",
       "377   71.41      70.42\n",
       "569   71.12      71.15\n",
       "584   81.40      81.03\n",
       "170   80.78      80.86\n",
       "458   78.67      78.89\n",
       "12    78.34      78.39\n",
       "469   81.88      81.64\n",
       "286   74.79      75.85\n",
       "75    81.74      81.18\n",
       "48    68.97      69.11\n",
       "547   68.82      68.39\n",
       "282   74.70      75.32\n",
       "269   77.94      77.50\n",
       "610   78.86      78.57\n",
       "294   75.04      75.12\n",
       "520   68.15      68.46\n",
       "224   76.26      76.46\n",
       "493   79.07      78.63\n",
       "78    81.15      80.81\n",
       "382   68.70      69.70\n",
       "297   73.65      73.38\n",
       "217   78.40      78.18\n",
       "558   74.94      74.21"
      ]
     },
     "execution_count": 35,
     "metadata": {},
     "output_type": "execute_result"
    }
   ],
   "source": [
    "# Compare the train and test errors\n",
    "print(\"Training MSE = {} , Testing MSE = {}\".format(m1_LR_CV,m1_LR_mse))\n",
    "\n",
    "## Store the actual and predicted data for comparison\n",
    "df=pd.DataFrame({'actual':testy,'predicted':round(p1_LR,2)})\n",
    "df.head(30)"
   ]
  },
  {
   "cell_type": "code",
   "execution_count": 36,
   "id": "b82559b8",
   "metadata": {},
   "outputs": [
    {
     "name": "stderr",
     "output_type": "stream",
     "text": [
      "C:\\Users\\Lenovo\\anaconda3\\envs\\tensorflow\\lib\\site-packages\\seaborn\\distributions.py:2557: FutureWarning: `distplot` is a deprecated function and will be removed in a future version. Please adapt your code to use either `displot` (a figure-level function with similar flexibility) or `kdeplot` (an axes-level function for kernel density plots).\n",
      "  warnings.warn(msg, FutureWarning)\n",
      "C:\\Users\\Lenovo\\anaconda3\\envs\\tensorflow\\lib\\site-packages\\seaborn\\distributions.py:2557: FutureWarning: `distplot` is a deprecated function and will be removed in a future version. Please adapt your code to use either `displot` (a figure-level function with similar flexibility) or `kdeplot` (an axes-level function for kernel density plots).\n",
      "  warnings.warn(msg, FutureWarning)\n"
     ]
    },
    {
     "data": {
      "text/plain": [
       "<AxesSubplot:xlabel='life_expectancy', ylabel='Density'>"
      ]
     },
     "execution_count": 36,
     "metadata": {},
     "output_type": "execute_result"
    }
   ],
   "source": [
    "# Plot the actual and predicted values\n",
    "ax1=sns.distplot(testy,hist=False,color='blue',label='Actual')\n",
    "sns.distplot(p1_LR,hist=False,color='red',label='Predicted',ax=ax1)"
   ]
  },
  {
   "cell_type": "code",
   "execution_count": 37,
   "id": "b5ef35a0",
   "metadata": {},
   "outputs": [],
   "source": [
    "### square root\n",
    "data2.shape\n",
    "data4=data2.copy()\n",
    "data4=data4[nc]\n",
    "\n",
    "for j in range(0,len(nc)):\n",
    "    for i in range(0,len(data4)):\n",
    "        data4.iloc[i,j]=pow(data4.iloc[i,j],(1/2))"
   ]
  },
  {
   "cell_type": "code",
   "execution_count": 38,
   "id": "5921bac4",
   "metadata": {},
   "outputs": [
    {
     "data": {
      "text/html": [
       "<div>\n",
       "<style scoped>\n",
       "    .dataframe tbody tr th:only-of-type {\n",
       "        vertical-align: middle;\n",
       "    }\n",
       "\n",
       "    .dataframe tbody tr th {\n",
       "        vertical-align: top;\n",
       "    }\n",
       "\n",
       "    .dataframe thead th {\n",
       "        text-align: right;\n",
       "    }\n",
       "</style>\n",
       "<table border=\"1\" class=\"dataframe\">\n",
       "  <thead>\n",
       "    <tr style=\"text-align: right;\">\n",
       "      <th></th>\n",
       "      <th>Features</th>\n",
       "      <th>Distribution</th>\n",
       "    </tr>\n",
       "  </thead>\n",
       "  <tbody>\n",
       "    <tr>\n",
       "      <th>0</th>\n",
       "      <td>year</td>\n",
       "      <td>Not Normal</td>\n",
       "    </tr>\n",
       "    <tr>\n",
       "      <th>1</th>\n",
       "      <td>adult_mortality</td>\n",
       "      <td>Not Normal</td>\n",
       "    </tr>\n",
       "    <tr>\n",
       "      <th>2</th>\n",
       "      <td>alcohol</td>\n",
       "      <td>Not Normal</td>\n",
       "    </tr>\n",
       "    <tr>\n",
       "      <th>3</th>\n",
       "      <td>percentage_exp</td>\n",
       "      <td>Not Normal</td>\n",
       "    </tr>\n",
       "    <tr>\n",
       "      <th>4</th>\n",
       "      <td>hepatitis_B</td>\n",
       "      <td>Not Normal</td>\n",
       "    </tr>\n",
       "    <tr>\n",
       "      <th>5</th>\n",
       "      <td>bmi</td>\n",
       "      <td>Not Normal</td>\n",
       "    </tr>\n",
       "    <tr>\n",
       "      <th>6</th>\n",
       "      <td>polio</td>\n",
       "      <td>Not Normal</td>\n",
       "    </tr>\n",
       "    <tr>\n",
       "      <th>7</th>\n",
       "      <td>total_expenditure</td>\n",
       "      <td>Not Normal</td>\n",
       "    </tr>\n",
       "    <tr>\n",
       "      <th>8</th>\n",
       "      <td>hiv_or_aids</td>\n",
       "      <td>Not Normal</td>\n",
       "    </tr>\n",
       "    <tr>\n",
       "      <th>9</th>\n",
       "      <td>population</td>\n",
       "      <td>Not Normal</td>\n",
       "    </tr>\n",
       "    <tr>\n",
       "      <th>10</th>\n",
       "      <td>schooling</td>\n",
       "      <td>Not Normal</td>\n",
       "    </tr>\n",
       "    <tr>\n",
       "      <th>11</th>\n",
       "      <td>life_expectancy</td>\n",
       "      <td>Not Normal</td>\n",
       "    </tr>\n",
       "  </tbody>\n",
       "</table>\n",
       "</div>"
      ],
      "text/plain": [
       "             Features Distribution\n",
       "0                year   Not Normal\n",
       "1     adult_mortality   Not Normal\n",
       "2             alcohol   Not Normal\n",
       "3      percentage_exp   Not Normal\n",
       "4         hepatitis_B   Not Normal\n",
       "5                 bmi   Not Normal\n",
       "6               polio   Not Normal\n",
       "7   total_expenditure   Not Normal\n",
       "8         hiv_or_aids   Not Normal\n",
       "9          population   Not Normal\n",
       "10          schooling   Not Normal\n",
       "11    life_expectancy   Not Normal"
      ]
     },
     "execution_count": 38,
     "metadata": {},
     "output_type": "execute_result"
    }
   ],
   "source": [
    "# Normality check\n",
    "Normality(data4,cols)"
   ]
  },
  {
   "cell_type": "code",
   "execution_count": 39,
   "id": "8a8ee705",
   "metadata": {},
   "outputs": [
    {
     "data": {
      "text/plain": [
       "(616, 42)"
      ]
     },
     "execution_count": 39,
     "metadata": {},
     "output_type": "execute_result"
    }
   ],
   "source": [
    "new_cols=set(data2.columns)-set(data4.columns)\n",
    "\n",
    "data4.shape\n",
    "data4[list(new_cols)]=data2[list(new_cols)]\n",
    "data4.shape"
   ]
  },
  {
   "cell_type": "code",
   "execution_count": 40,
   "id": "c991b0f1",
   "metadata": {},
   "outputs": [],
   "source": [
    "trainx,testx,trainy,testy=train_test_split(data4.drop('life_expectancy',axis=1), data4['life_expectancy'],test_size=0.2) ## Single step process.\n",
    "m2_LR_CV=CrossValidation_LR(trainx,trainy,k=5)\n",
    "model=LR_Model(trainx, testx, trainy, testy)\n",
    "m2_LR=model[0] # model\n",
    "m2_LR_mse=model[2] # MSE"
   ]
  },
  {
   "cell_type": "code",
   "execution_count": 41,
   "id": "3368908f",
   "metadata": {},
   "outputs": [
    {
     "data": {
      "text/plain": [
       "<statsmodels.regression.linear_model.RegressionResultsWrapper at 0x1caec1555e0>"
      ]
     },
     "execution_count": 41,
     "metadata": {},
     "output_type": "execute_result"
    }
   ],
   "source": [
    "m2_LR"
   ]
  },
  {
   "cell_type": "code",
   "execution_count": 42,
   "id": "f25a0101",
   "metadata": {},
   "outputs": [
    {
     "name": "stdout",
     "output_type": "stream",
     "text": [
      "Training MSE = 0.002 , Testing MSE = 0.002\n"
     ]
    }
   ],
   "source": [
    "# Compare the train and test errors\n",
    "print(\"Training MSE = {} , Testing MSE = {}\".format(m2_LR_CV,m2_LR_mse))"
   ]
  },
  {
   "cell_type": "code",
   "execution_count": 43,
   "id": "f4d708e9",
   "metadata": {},
   "outputs": [],
   "source": [
    "#------------------------------------\n",
    "# Log transformation can not be done since there are Zeros in the data."
   ]
  },
  {
   "cell_type": "code",
   "execution_count": 44,
   "id": "d65acce1",
   "metadata": {},
   "outputs": [
    {
     "name": "stdout",
     "output_type": "stream",
     "text": [
      "Reject H0. Model is Heteroscedastic\n"
     ]
    }
   ],
   "source": [
    "# Now trying with boxcox transformation\n",
    "\n",
    "#### Boxcox transformation\n",
    "from scipy.stats import boxcox\n",
    "\n",
    "# transform data into BoxCox transformaed data\n",
    "data4.shape\n",
    "d=data4['life_expectancy']\n",
    "bc_values,lamda=boxcox(d)\n",
    "bc_values\n",
    "lamda # used to raise the value to make it normal\n",
    "\n",
    "bc1=bc_values[0]\n",
    "bc1\n",
    "\n",
    "data4=data2.copy()\n",
    "data4['life_expectancy']=bc_values\n",
    "\n",
    "data4.shape\n",
    "\n",
    "trainx,testx,trainy,testy=train_test_split(data4.drop('life_expectancy',axis=1),data4['life_expectancy'],test_size=0.2)\n",
    "\n",
    "CrossValidation_LR(trainx, trainy, k=5)\n",
    "m4_LR=LR_Model(trainx,testx,trainy,testy)\n",
    "model=m4_LR[0]\n",
    "\n",
    "## bruesch-pagan test against hetero\n",
    "import statsmodels.stats.api as sms\n",
    "\n",
    "# H0: Homoscedasticity \n",
    "# H1: Heteroscedasticity\n",
    "\n",
    "# return value of breusch pagan test\n",
    "# lagrange_multiplier,p-value,f-score,fp-value\n",
    "\n",
    "# parameters: [residuals, x-array]\n",
    "pval=sms.het_breuschpagan(model.resid,model.model.exog)[1]\n",
    "\n",
    "if pval<0.05:\n",
    "    print(\"Reject H0. Model is Heteroscedastic\")\n",
    "else:\n",
    "    print(\"FTR H0: MOdel is Homoscedastic\")\n",
    "# Hetero"
   ]
  },
  {
   "cell_type": "code",
   "execution_count": null,
   "id": "1a6dd992",
   "metadata": {},
   "outputs": [],
   "source": [
    "################ DECISION TREE REGRESSOR ####################"
   ]
  },
  {
   "cell_type": "code",
   "execution_count": 45,
   "id": "bcbf278f",
   "metadata": {},
   "outputs": [],
   "source": [
    "from sklearn.tree import DecisionTreeRegressor"
   ]
  },
  {
   "cell_type": "code",
   "execution_count": 46,
   "id": "1a7e8c96",
   "metadata": {},
   "outputs": [],
   "source": [
    "trainx,testx,trainy,testy=train_test_split(data2.drop('life_expectancy',axis=1),data2['life_expectancy'],test_size=0.2)"
   ]
  },
  {
   "cell_type": "code",
   "execution_count": 47,
   "id": "63435a71",
   "metadata": {},
   "outputs": [],
   "source": [
    "m1_DT=DecisionTreeRegressor(criterion='mse').fit(trainx,trainy)"
   ]
  },
  {
   "cell_type": "code",
   "execution_count": 48,
   "id": "128a2af9",
   "metadata": {},
   "outputs": [
    {
     "name": "stdout",
     "output_type": "stream",
     "text": [
      "17\n"
     ]
    }
   ],
   "source": [
    "print(m1_DT.get_depth())"
   ]
  },
  {
   "cell_type": "code",
   "execution_count": 49,
   "id": "dfd53283",
   "metadata": {},
   "outputs": [
    {
     "data": {
      "text/plain": [
       "2.305"
      ]
     },
     "execution_count": 49,
     "metadata": {},
     "output_type": "execute_result"
    }
   ],
   "source": [
    "p1_DT=m1_DT.predict(testx) \n",
    "mse1_DT=round(mean_squared_error(testy,p1_DT),3)\n",
    "mse1_DT"
   ]
  },
  {
   "cell_type": "code",
   "execution_count": 50,
   "id": "d2b959c4",
   "metadata": {},
   "outputs": [],
   "source": [
    "def CrossValidation_DT(trainx,trainy,k):\n",
    "    folds=k\n",
    "    cv_mse=[]\n",
    "\n",
    "    X=trainx.values # Should be in the form of array\n",
    "    Y=trainy.values\n",
    "\n",
    "    kf=KFold(folds)\n",
    "    #kf.get_n_splits(X)\n",
    "\n",
    "    for train_index,test_index in kf.split(X):\n",
    "        cv_trainx,cv_trainy=X[train_index],Y[train_index]\n",
    "        cv_testx,cv_testy=X[test_index],Y[test_index]\n",
    "        \n",
    "        # Build the model on the cv_train and predict on cv_test\n",
    "        m=DecisionTreeRegressor(criterion='mse').fit(cv_trainx,cv_trainy)\n",
    "        p=m.predict(cv_testx)\n",
    "    \n",
    "        # store MSE in the list for each model\n",
    "        cv_mse.append(np.round(mean_squared_error(cv_testy,p),3))\n",
    "        \n",
    "        cv_mse    \n",
    "\n",
    "    # Calculate the mean MSE of K-Fold cross validation\n",
    "    return(np.mean(cv_mse))"
   ]
  },
  {
   "cell_type": "code",
   "execution_count": 51,
   "id": "390de1de",
   "metadata": {},
   "outputs": [
    {
     "name": "stdout",
     "output_type": "stream",
     "text": [
      "1.5177999999999998\n"
     ]
    }
   ],
   "source": [
    "mse_DT_CV=CrossValidation_DT(trainx,trainy,5)\n",
    "print(mse_DT_CV)"
   ]
  },
  {
   "cell_type": "code",
   "execution_count": 52,
   "id": "fd3d03ae",
   "metadata": {},
   "outputs": [],
   "source": [
    "### Decision Tree with Hypertuning\n",
    "m2_DT=DecisionTreeRegressor(criterion='mse',max_depth=8,min_samples_leaf=2).fit(trainx,trainy)"
   ]
  },
  {
   "cell_type": "code",
   "execution_count": 53,
   "id": "408e406b",
   "metadata": {},
   "outputs": [
    {
     "data": {
      "text/plain": [
       "1.723"
      ]
     },
     "execution_count": 53,
     "metadata": {},
     "output_type": "execute_result"
    }
   ],
   "source": [
    "## Predictions\n",
    "p2_DT=m2_DT.predict(testx) \n",
    "mse2_DT=round(mean_squared_error(testy,p2_DT),3)\n",
    "mse2_DT"
   ]
  },
  {
   "cell_type": "code",
   "execution_count": 56,
   "id": "2c456c4a",
   "metadata": {},
   "outputs": [
    {
     "data": {
      "text/plain": [
       "1.7420646415886651"
      ]
     },
     "execution_count": 56,
     "metadata": {},
     "output_type": "execute_result"
    }
   ],
   "source": [
    "# Cross Validation\n",
    "kf = KFold(n_splits=5)\n",
    "mse2_DT_CV=np.mean(-cross_val_score(m2_DT, trainx, trainy, scoring=\"neg_mean_squared_error\", cv=kf))\n",
    "mse2_DT_CV"
   ]
  },
  {
   "cell_type": "code",
   "execution_count": 62,
   "id": "eec67d89",
   "metadata": {},
   "outputs": [],
   "source": [
    "############## RANDOM FOREST ###################\n",
    "from sklearn.ensemble import RandomForestRegressor"
   ]
  },
  {
   "cell_type": "code",
   "execution_count": 63,
   "id": "e645f67a",
   "metadata": {},
   "outputs": [
    {
     "data": {
      "text/plain": [
       "0.678"
      ]
     },
     "execution_count": 63,
     "metadata": {},
     "output_type": "execute_result"
    }
   ],
   "source": [
    "m1_RF=RandomForestRegressor().fit(trainx,trainy)\n",
    "p1_RF=m1_RF.predict(testx)\n",
    "mse1_RF=np.round(mean_squared_error(testy,p1_RF),3)\n",
    "mse1_RF"
   ]
  },
  {
   "cell_type": "code",
   "execution_count": 64,
   "id": "c69001d2",
   "metadata": {},
   "outputs": [
    {
     "data": {
      "text/plain": [
       "1.0078291450933843"
      ]
     },
     "execution_count": 64,
     "metadata": {},
     "output_type": "execute_result"
    }
   ],
   "source": [
    "# Cross Validation\n",
    "kf = KFold(n_splits=5)\n",
    "mse1_RF_CV=np.mean(-cross_val_score(m1_RF, trainx, trainy, scoring=\"neg_mean_squared_error\", cv=kf))\n",
    "mse1_RF_CV"
   ]
  },
  {
   "cell_type": "code",
   "execution_count": 65,
   "id": "06b8f7b9",
   "metadata": {},
   "outputs": [
    {
     "data": {
      "text/plain": [
       "0.994"
      ]
     },
     "execution_count": 65,
     "metadata": {},
     "output_type": "execute_result"
    }
   ],
   "source": [
    "########### RANDOM FOREST HPT ###########\n",
    "m2_RF=RandomForestRegressor(n_estimators=30,max_depth=6,min_samples_split=3,min_samples_leaf=2).fit(trainx,trainy)\n",
    "p2_RF=m2_RF.predict(testx)\n",
    "mse2_RF=np.round(mean_squared_error(testy,p2_RF),3)\n",
    "mse2_RF"
   ]
  },
  {
   "cell_type": "code",
   "execution_count": 66,
   "id": "2a0678e1",
   "metadata": {},
   "outputs": [
    {
     "data": {
      "text/plain": [
       "1.1347702387563618"
      ]
     },
     "execution_count": 66,
     "metadata": {},
     "output_type": "execute_result"
    }
   ],
   "source": [
    "# Cross Validation\n",
    "kf = KFold(n_splits=5)\n",
    "mse2_RF_CV=np.mean(-cross_val_score(m2_RF, trainx, trainy, scoring=\"neg_mean_squared_error\", cv=kf))\n",
    "mse2_RF_CV"
   ]
  },
  {
   "cell_type": "code",
   "execution_count": 68,
   "id": "29158e41",
   "metadata": {},
   "outputs": [
    {
     "name": "stdout",
     "output_type": "stream",
     "text": [
      "[-0.359, -0.41, -0.513, -0.663, -0.856, -1.103, -1.374, -1.675, -2.008]\n"
     ]
    },
    {
     "data": {
      "text/plain": [
       "3"
      ]
     },
     "execution_count": 68,
     "metadata": {},
     "output_type": "execute_result"
    }
   ],
   "source": [
    "################### KNN Regressor ##########################\n",
    "from sklearn import neighbors\n",
    "\n",
    "trainx_std=trainx.copy()\n",
    "testx_std=testx.copy()\n",
    "\n",
    "from sklearn import preprocessing\n",
    "minmax=preprocessing.MinMaxScaler()\n",
    "\n",
    "## Scale the train data\n",
    "sc=minmax.fit_transform(trainx_std.iloc[:,:])\n",
    "trainx_std.iloc[:,:]=sc\n",
    "\n",
    "## Scale the test data\n",
    "sc=minmax.fit_transform(testx_std.iloc[:,:])\n",
    "testx_std.iloc[:,:]=sc\n",
    "\n",
    "trainx_std.head(3)\n",
    "\n",
    "\n",
    "### Best value for the k\n",
    "nn=range(3,12)\n",
    "list(nn)\n",
    "\n",
    "from sklearn.model_selection import cross_val_score\n",
    "\n",
    "mse_cv=[]\n",
    "\n",
    "for k in list(nn):\n",
    "    m=neighbors.KNeighborsRegressor(n_neighbors=k).fit(trainx_std,trainy)\n",
    "    err=cross_val_score(m,trainx_std,trainy,cv=5,scoring='neg_mean_squared_error')\n",
    "    err=np.round(np.mean(err),3)\n",
    "    mse_cv.append(err)\n",
    "    \n",
    "# The MSE scores are all in -ve numbers. COnvert to +ve\n",
    "print(mse_cv)\n",
    "\n",
    "## COnvert all the -ve to +ve numbers using lambda function\n",
    "mse_cv=list(map(lambda x:abs(x),mse_cv))\n",
    "mse_cv\n",
    "\n",
    "## Select the lowest mse scores and its corresponding K-value\n",
    "bestk=nn[mse_cv.index(min(mse_cv))]\n",
    "bestk"
   ]
  },
  {
   "cell_type": "code",
   "execution_count": 104,
   "id": "5d6aa10b",
   "metadata": {},
   "outputs": [],
   "source": [
    "def CrossValidation_KNN(trainx,trainy,k):\n",
    "    folds=k\n",
    "    cv_mse=[]\n",
    "\n",
    "    X=trainx.values # Should be in the form of array\n",
    "    Y=trainy.values\n",
    "\n",
    "    kf=KFold(folds)\n",
    "    #kf.get_n_splits(X)\n",
    "\n",
    "    for train_index,test_index in kf.split(X):\n",
    "        cv_trainx,cv_trainy=X[train_index],Y[train_index]\n",
    "        cv_testx,cv_testy=X[test_index],Y[test_index]\n",
    "        \n",
    "        # Build the model on the cv_train and predict on cv_test\n",
    "        m=neighbors.KNeighborsRegressor(n_neighbors=3).fit(cv_trainx,cv_trainy)\n",
    "        p=m.predict(cv_testx)\n",
    "    \n",
    "        # store MSE in the list for each model\n",
    "        cv_mse.append(np.round(mean_squared_error(cv_testy,p),3))\n",
    "        \n",
    "        cv_mse    \n",
    "\n",
    "    # Calculate the mean MSE of K-Fold cross validation\n",
    "    return(np.mean(cv_mse))"
   ]
  },
  {
   "cell_type": "code",
   "execution_count": 69,
   "id": "b951eb95",
   "metadata": {},
   "outputs": [
    {
     "data": {
      "text/plain": [
       "0.634345788530465"
      ]
     },
     "execution_count": 69,
     "metadata": {},
     "output_type": "execute_result"
    }
   ],
   "source": [
    "## Build the knn model with the bestk\n",
    "m1_KNN=neighbors.KNeighborsRegressor(n_neighbors=bestk).fit(trainx_std,trainy)\n",
    "p1_KNN=m1_KNN.predict(testx_std)\n",
    "mse1_KNN=mean_squared_error(testy,p1_KNN)\n",
    "mse1_KNN"
   ]
  },
  {
   "cell_type": "code",
   "execution_count": 70,
   "id": "b4cfa654",
   "metadata": {},
   "outputs": [
    {
     "data": {
      "text/plain": [
       "21.022329611534847"
      ]
     },
     "execution_count": 70,
     "metadata": {},
     "output_type": "execute_result"
    }
   ],
   "source": [
    "# Cross Validation\n",
    "kf = KFold(n_splits=5)\n",
    "mse1_KNN_CV=np.mean(-cross_val_score(m1_KNN, trainx, trainy, scoring=\"neg_mean_squared_error\", cv=kf))\n",
    "mse1_KNN_CV"
   ]
  },
  {
   "cell_type": "code",
   "execution_count": null,
   "id": "e8340acb",
   "metadata": {},
   "outputs": [],
   "source": [
    "###################### SVM ############################"
   ]
  },
  {
   "cell_type": "code",
   "execution_count": 71,
   "id": "85401b8b",
   "metadata": {},
   "outputs": [],
   "source": [
    "from sklearn import svm,preprocessing"
   ]
  },
  {
   "cell_type": "code",
   "execution_count": 72,
   "id": "bc631208",
   "metadata": {},
   "outputs": [
    {
     "name": "stdout",
     "output_type": "stream",
     "text": [
      "kernal=linear , R-Square=0.9485485622761807\n",
      "kernal=rbf , R-Square=0.9640727309780169\n",
      "kernal=poly , R-Square=0.9336767129535648\n",
      "kernal=sigmoid , R-Square=0.8223513385467516\n"
     ]
    }
   ],
   "source": [
    "kernals=['linear','rbf','poly','sigmoid']\n",
    "kernals\n",
    "\n",
    "for k in kernals:\n",
    "    m=svm.SVR(kernel=k).fit(trainx_std,trainy)\n",
    "    r_square=m.score(testx_std,testy)\n",
    "    print('kernal={} , R-Square={}'.format(k,r_square))"
   ]
  },
  {
   "cell_type": "code",
   "execution_count": 99,
   "id": "49ae0874",
   "metadata": {},
   "outputs": [],
   "source": [
    "def svmRegression(ker,trainx,trainy,testx,testy,bestc=2,bestg='scale'):\n",
    "    model=svm.SVR(kernel=ker,C=bestc,gamma=bestg).fit(trainx,trainy)\n",
    "    pred=model.predict(testx)\n",
    "    mse=mean_squared_error(testy,pred)\n",
    "    return(pred,mse)"
   ]
  },
  {
   "cell_type": "code",
   "execution_count": 100,
   "id": "cb89abca",
   "metadata": {},
   "outputs": [
    {
     "data": {
      "text/plain": [
       "[1.372, 0.79, 1.278, 5.18]"
      ]
     },
     "execution_count": 100,
     "metadata": {},
     "output_type": "execute_result"
    }
   ],
   "source": [
    "m_mse=[]; p1_SVM=[]\n",
    "### Run the regression model for each kernel\n",
    "for k in kernals:\n",
    "    pred,mseval=svmRegression(k,trainx_std,trainy,testx_std,testy) # funciton call\n",
    "    p1_SVM.append(pred)\n",
    "    m_mse.append(round(mseval,3))  \n",
    "m_mse"
   ]
  },
  {
   "cell_type": "code",
   "execution_count": null,
   "id": "5a9b5966",
   "metadata": {},
   "outputs": [],
   "source": [
    "[1.308, 0.914, 1.687, 4.518] # c=1\n",
    "[1.372, 0.79, 1.278, 5.18] # c=2\n",
    "[1.404, 0.846, 1.099, 9.421] c=3"
   ]
  },
  {
   "cell_type": "code",
   "execution_count": null,
   "id": "d127ba74",
   "metadata": {},
   "outputs": [],
   "source": [
    "### Data Frame"
   ]
  },
  {
   "cell_type": "code",
   "execution_count": 115,
   "id": "c4378838",
   "metadata": {},
   "outputs": [
    {
     "name": "stdout",
     "output_type": "stream",
     "text": [
      "Empty DataFrame\n",
      "Columns: [Model, CV_mse, Prediction_mse]\n",
      "Index: []\n"
     ]
    }
   ],
   "source": [
    "result1 = pd.DataFrame([],columns=['Model','CV_mse','Prediction_mse'])\n",
    "print(result1)"
   ]
  },
  {
   "cell_type": "code",
   "execution_count": 116,
   "id": "44228d8b",
   "metadata": {},
   "outputs": [],
   "source": [
    "result1.loc[0]=['Linear Regression',m1_LR_CV,m1_LR_mse]\n",
    "result1.loc[1]=['Decision Tree',mse_DT_CV,mse1_DT]\n",
    "result1.loc[2]=['Decision Tree HPT',mse2_DT_CV,mse2_DT]\n",
    "result1.loc[3]=['Random Forest',mse1_RF_CV,mse1_RF]\n",
    "result1.loc[4]=['Random Forest HPT',mse2_RF_CV,mse2_RF]\n",
    "result1.loc[5]=['KNN',mse1_KNN_CV,mse1_KNN]\n",
    "result1.loc[6]=['SVM_Linear','',1.372]\n",
    "result1.loc[7]=['SVM_rbf','',0.79]\n",
    "result1.loc[8]=['SVM_poly','',1.278]\n",
    "result1.loc[9]=['SVM_sigmoid','',5.18]"
   ]
  },
  {
   "cell_type": "code",
   "execution_count": 117,
   "id": "8b03dbc9",
   "metadata": {},
   "outputs": [
    {
     "name": "stdout",
     "output_type": "stream",
     "text": [
      "               Model    CV_mse  Prediction_mse\n",
      "0  Linear Regression    0.6666        0.550000\n",
      "1      Decision Tree    1.5178        2.305000\n",
      "2  Decision Tree HPT  1.742065        1.723000\n",
      "3      Random Forest  1.007829        0.678000\n",
      "4  Random Forest HPT   1.13477        0.994000\n",
      "5                KNN  21.02233        0.634346\n",
      "6         SVM_Linear                  1.372000\n",
      "7            SVM_rbf                  0.790000\n",
      "8           SVM_poly                  1.278000\n",
      "9        SVM_sigmoid                  5.180000\n"
     ]
    }
   ],
   "source": [
    "print(result1)"
   ]
  },
  {
   "cell_type": "code",
   "execution_count": null,
   "id": "e9b2ec27",
   "metadata": {},
   "outputs": [],
   "source": []
  },
  {
   "cell_type": "code",
   "execution_count": null,
   "id": "879d363b",
   "metadata": {},
   "outputs": [],
   "source": []
  },
  {
   "cell_type": "code",
   "execution_count": 75,
   "id": "2c3b2c05",
   "metadata": {},
   "outputs": [],
   "source": [
    "y = data2['life_expectancy']\n",
    "x = data2.drop(['life_expectancy'],axis=1)"
   ]
  },
  {
   "cell_type": "code",
   "execution_count": 76,
   "id": "2326f078",
   "metadata": {},
   "outputs": [],
   "source": [
    "from sklearn.model_selection import train_test_split\n",
    "xtrain,xtest,ytrain,ytest = train_test_split(x,y,test_size=0.2)"
   ]
  },
  {
   "cell_type": "code",
   "execution_count": 123,
   "id": "d624faa7",
   "metadata": {},
   "outputs": [],
   "source": [
    "from sklearn.linear_model import LinearRegression, Ridge,Lasso\n",
    "\n",
    "from sklearn.ensemble import GradientBoostingRegressor,RandomForestRegressor,AdaBoostRegressor\n",
    "\n",
    "from sklearn.tree import DecisionTreeRegressor\n",
    "from sklearn.svm import SVR\n",
    "from sklearn.model_selection import KFold\n",
    "from sklearn.model_selection import cross_val_score\n",
    "import numpy as np\n",
    "from sklearn.metrics import mean_squared_error\n",
    "import warnings"
   ]
  },
  {
   "cell_type": "code",
   "execution_count": 124,
   "id": "45c88ec1",
   "metadata": {},
   "outputs": [],
   "source": [
    "lr=0.1\n",
    "n = 200\n",
    "kf = KFold(n_splits=5, random_state=42, shuffle=True)\n",
    "\n",
    "adaboost_model = AdaBoostRegressor(n_estimators=n,learning_rate=lr)\n",
    "\n",
    "gradientboost_model=GradientBoostingRegressor(learning_rate=lr,n_estimators = n)\n",
    "\n",
    "ridge_model = Ridge(alpha=0.1)\n",
    "\n",
    "lasso_model = Lasso(alpha=0.1)"
   ]
  },
  {
   "cell_type": "code",
   "execution_count": 125,
   "id": "fe254914",
   "metadata": {},
   "outputs": [],
   "source": [
    "def metrics(ytest,ypred):\n",
    "  return(mean_squared_error(ytest,ypred))\n",
    "\n",
    "result = pd.DataFrame([],columns=['Model','CV_mse','Prediction_mse'])\n",
    "def compute(model,i):\n",
    "  cv_mse = -cross_val_score(model, x, y, scoring=\"neg_mean_squared_error\", cv=kf)\n",
    "  model.fit(xtrain,ytrain)\n",
    "  ypred = model.predict(xtest)\n",
    "  result.loc[i] = [str(model)[:str(model).index('(')] ,cv_mse.mean(),metrics(ytest,ypred) ]"
   ]
  },
  {
   "cell_type": "code",
   "execution_count": 126,
   "id": "1e60a5d7",
   "metadata": {},
   "outputs": [
    {
     "data": {
      "text/html": [
       "<div>\n",
       "<style scoped>\n",
       "    .dataframe tbody tr th:only-of-type {\n",
       "        vertical-align: middle;\n",
       "    }\n",
       "\n",
       "    .dataframe tbody tr th {\n",
       "        vertical-align: top;\n",
       "    }\n",
       "\n",
       "    .dataframe thead th {\n",
       "        text-align: right;\n",
       "    }\n",
       "</style>\n",
       "<table border=\"1\" class=\"dataframe\">\n",
       "  <thead>\n",
       "    <tr style=\"text-align: right;\">\n",
       "      <th></th>\n",
       "      <th>Model</th>\n",
       "      <th>CV_mse</th>\n",
       "      <th>Prediction_mse</th>\n",
       "    </tr>\n",
       "  </thead>\n",
       "  <tbody>\n",
       "    <tr>\n",
       "      <th>1</th>\n",
       "      <td>GradientBoostingRegressor</td>\n",
       "      <td>0.432631</td>\n",
       "      <td>0.518998</td>\n",
       "    </tr>\n",
       "    <tr>\n",
       "      <th>2</th>\n",
       "      <td>Ridge</td>\n",
       "      <td>0.705968</td>\n",
       "      <td>0.652947</td>\n",
       "    </tr>\n",
       "    <tr>\n",
       "      <th>0</th>\n",
       "      <td>AdaBoostRegressor</td>\n",
       "      <td>1.940014</td>\n",
       "      <td>2.452862</td>\n",
       "    </tr>\n",
       "    <tr>\n",
       "      <th>3</th>\n",
       "      <td>Lasso</td>\n",
       "      <td>2.952786</td>\n",
       "      <td>3.649959</td>\n",
       "    </tr>\n",
       "  </tbody>\n",
       "</table>\n",
       "</div>"
      ],
      "text/plain": [
       "                       Model    CV_mse  Prediction_mse\n",
       "1  GradientBoostingRegressor  0.432631        0.518998\n",
       "2                      Ridge  0.705968        0.652947\n",
       "0          AdaBoostRegressor  1.940014        2.452862\n",
       "3                      Lasso  2.952786        3.649959"
      ]
     },
     "execution_count": 126,
     "metadata": {},
     "output_type": "execute_result"
    }
   ],
   "source": [
    "models = [adaboost_model,gradientboost_model,ridge_model,lasso_model]\n",
    "for model in range(len(models)):\n",
    "  compute(models[model],model)\n",
    "result = result.sort_values('CV_mse')\n",
    "warnings.filterwarnings(\"ignore\")\n",
    "result"
   ]
  },
  {
   "cell_type": "code",
   "execution_count": 127,
   "id": "b8eb730b",
   "metadata": {},
   "outputs": [
    {
     "data": {
      "text/html": [
       "<div>\n",
       "<style scoped>\n",
       "    .dataframe tbody tr th:only-of-type {\n",
       "        vertical-align: middle;\n",
       "    }\n",
       "\n",
       "    .dataframe tbody tr th {\n",
       "        vertical-align: top;\n",
       "    }\n",
       "\n",
       "    .dataframe thead th {\n",
       "        text-align: right;\n",
       "    }\n",
       "</style>\n",
       "<table border=\"1\" class=\"dataframe\">\n",
       "  <thead>\n",
       "    <tr style=\"text-align: right;\">\n",
       "      <th></th>\n",
       "      <th>Model</th>\n",
       "      <th>CV_mse</th>\n",
       "      <th>Prediction_mse</th>\n",
       "    </tr>\n",
       "  </thead>\n",
       "  <tbody>\n",
       "    <tr>\n",
       "      <th>1</th>\n",
       "      <td>GradientBoostingRegressor</td>\n",
       "      <td>0.432631</td>\n",
       "      <td>0.518998</td>\n",
       "    </tr>\n",
       "    <tr>\n",
       "      <th>2</th>\n",
       "      <td>Ridge</td>\n",
       "      <td>0.705968</td>\n",
       "      <td>0.652947</td>\n",
       "    </tr>\n",
       "    <tr>\n",
       "      <th>0</th>\n",
       "      <td>AdaBoostRegressor</td>\n",
       "      <td>1.940014</td>\n",
       "      <td>2.452862</td>\n",
       "    </tr>\n",
       "    <tr>\n",
       "      <th>3</th>\n",
       "      <td>Lasso</td>\n",
       "      <td>2.952786</td>\n",
       "      <td>3.649959</td>\n",
       "    </tr>\n",
       "    <tr>\n",
       "      <th>0</th>\n",
       "      <td>Linear Regression</td>\n",
       "      <td>0.6666</td>\n",
       "      <td>0.550000</td>\n",
       "    </tr>\n",
       "    <tr>\n",
       "      <th>1</th>\n",
       "      <td>Decision Tree</td>\n",
       "      <td>1.5178</td>\n",
       "      <td>2.305000</td>\n",
       "    </tr>\n",
       "    <tr>\n",
       "      <th>2</th>\n",
       "      <td>Decision Tree HPT</td>\n",
       "      <td>1.742065</td>\n",
       "      <td>1.723000</td>\n",
       "    </tr>\n",
       "    <tr>\n",
       "      <th>3</th>\n",
       "      <td>Random Forest</td>\n",
       "      <td>1.007829</td>\n",
       "      <td>0.678000</td>\n",
       "    </tr>\n",
       "    <tr>\n",
       "      <th>4</th>\n",
       "      <td>Random Forest HPT</td>\n",
       "      <td>1.13477</td>\n",
       "      <td>0.994000</td>\n",
       "    </tr>\n",
       "    <tr>\n",
       "      <th>5</th>\n",
       "      <td>KNN</td>\n",
       "      <td>21.02233</td>\n",
       "      <td>0.634346</td>\n",
       "    </tr>\n",
       "    <tr>\n",
       "      <th>6</th>\n",
       "      <td>SVM_Linear</td>\n",
       "      <td></td>\n",
       "      <td>1.372000</td>\n",
       "    </tr>\n",
       "    <tr>\n",
       "      <th>7</th>\n",
       "      <td>SVM_rbf</td>\n",
       "      <td></td>\n",
       "      <td>0.790000</td>\n",
       "    </tr>\n",
       "    <tr>\n",
       "      <th>8</th>\n",
       "      <td>SVM_poly</td>\n",
       "      <td></td>\n",
       "      <td>1.278000</td>\n",
       "    </tr>\n",
       "    <tr>\n",
       "      <th>9</th>\n",
       "      <td>SVM_sigmoid</td>\n",
       "      <td></td>\n",
       "      <td>5.180000</td>\n",
       "    </tr>\n",
       "  </tbody>\n",
       "</table>\n",
       "</div>"
      ],
      "text/plain": [
       "                       Model    CV_mse  Prediction_mse\n",
       "1  GradientBoostingRegressor  0.432631        0.518998\n",
       "2                      Ridge  0.705968        0.652947\n",
       "0          AdaBoostRegressor  1.940014        2.452862\n",
       "3                      Lasso  2.952786        3.649959\n",
       "0          Linear Regression    0.6666        0.550000\n",
       "1              Decision Tree    1.5178        2.305000\n",
       "2          Decision Tree HPT  1.742065        1.723000\n",
       "3              Random Forest  1.007829        0.678000\n",
       "4          Random Forest HPT   1.13477        0.994000\n",
       "5                        KNN  21.02233        0.634346\n",
       "6                 SVM_Linear                  1.372000\n",
       "7                    SVM_rbf                  0.790000\n",
       "8                   SVM_poly                  1.278000\n",
       "9                SVM_sigmoid                  5.180000"
      ]
     },
     "metadata": {},
     "output_type": "display_data"
    }
   ],
   "source": [
    "res=pd.concat([result, result1], axis=0, join='outer')\n",
    "display(res)"
   ]
  },
  {
   "cell_type": "code",
   "execution_count": 138,
   "id": "0e0fbd1c",
   "metadata": {},
   "outputs": [
    {
     "data": {
      "text/plain": [
       "0.47518407422131725"
      ]
     },
     "execution_count": 138,
     "metadata": {},
     "output_type": "execute_result"
    }
   ],
   "source": [
    "lr=0.1\n",
    "n = 200\n",
    "kf = KFold(n_splits=5, random_state=42, shuffle=True)\n",
    "\n",
    "gradientboost_model=GradientBoostingRegressor(learning_rate=lr,n_estimators = n)\n",
    "def metrics(ytest,ypred):\n",
    "  return(mean_squared_error(ytest,ypred))\n",
    "\n",
    "cv_mse = -cross_val_score(gradientboost_model, x, y, scoring=\"neg_mean_squared_error\", cv=kf)\n",
    "gradientboost_model.fit(xtrain,ytrain)\n",
    "ypred = gradientboost_model.predict(xtest)\n",
    "metrics(ytest,ypred)"
   ]
  },
  {
   "cell_type": "code",
   "execution_count": 154,
   "id": "be6d389e",
   "metadata": {},
   "outputs": [
    {
     "data": {
      "text/html": [
       "<div>\n",
       "<style scoped>\n",
       "    .dataframe tbody tr th:only-of-type {\n",
       "        vertical-align: middle;\n",
       "    }\n",
       "\n",
       "    .dataframe tbody tr th {\n",
       "        vertical-align: top;\n",
       "    }\n",
       "\n",
       "    .dataframe thead th {\n",
       "        text-align: right;\n",
       "    }\n",
       "</style>\n",
       "<table border=\"1\" class=\"dataframe\">\n",
       "  <thead>\n",
       "    <tr style=\"text-align: right;\">\n",
       "      <th></th>\n",
       "      <th>actual</th>\n",
       "      <th>predicted</th>\n",
       "    </tr>\n",
       "  </thead>\n",
       "  <tbody>\n",
       "    <tr>\n",
       "      <th>0</th>\n",
       "      <td>79.60</td>\n",
       "      <td>79.91</td>\n",
       "    </tr>\n",
       "    <tr>\n",
       "      <th>1</th>\n",
       "      <td>80.01</td>\n",
       "      <td>80.38</td>\n",
       "    </tr>\n",
       "    <tr>\n",
       "      <th>2</th>\n",
       "      <td>79.58</td>\n",
       "      <td>80.11</td>\n",
       "    </tr>\n",
       "    <tr>\n",
       "      <th>3</th>\n",
       "      <td>82.91</td>\n",
       "      <td>82.67</td>\n",
       "    </tr>\n",
       "    <tr>\n",
       "      <th>4</th>\n",
       "      <td>82.72</td>\n",
       "      <td>82.47</td>\n",
       "    </tr>\n",
       "    <tr>\n",
       "      <th>5</th>\n",
       "      <td>77.58</td>\n",
       "      <td>77.11</td>\n",
       "    </tr>\n",
       "    <tr>\n",
       "      <th>6</th>\n",
       "      <td>81.27</td>\n",
       "      <td>80.92</td>\n",
       "    </tr>\n",
       "    <tr>\n",
       "      <th>7</th>\n",
       "      <td>73.08</td>\n",
       "      <td>72.27</td>\n",
       "    </tr>\n",
       "    <tr>\n",
       "      <th>8</th>\n",
       "      <td>75.08</td>\n",
       "      <td>74.71</td>\n",
       "    </tr>\n",
       "    <tr>\n",
       "      <th>9</th>\n",
       "      <td>78.97</td>\n",
       "      <td>79.52</td>\n",
       "    </tr>\n",
       "    <tr>\n",
       "      <th>10</th>\n",
       "      <td>82.22</td>\n",
       "      <td>81.87</td>\n",
       "    </tr>\n",
       "    <tr>\n",
       "      <th>11</th>\n",
       "      <td>69.79</td>\n",
       "      <td>69.76</td>\n",
       "    </tr>\n",
       "    <tr>\n",
       "      <th>12</th>\n",
       "      <td>72.43</td>\n",
       "      <td>72.76</td>\n",
       "    </tr>\n",
       "    <tr>\n",
       "      <th>13</th>\n",
       "      <td>75.50</td>\n",
       "      <td>75.56</td>\n",
       "    </tr>\n",
       "    <tr>\n",
       "      <th>14</th>\n",
       "      <td>80.84</td>\n",
       "      <td>80.73</td>\n",
       "    </tr>\n",
       "    <tr>\n",
       "      <th>15</th>\n",
       "      <td>83.02</td>\n",
       "      <td>82.55</td>\n",
       "    </tr>\n",
       "    <tr>\n",
       "      <th>16</th>\n",
       "      <td>79.88</td>\n",
       "      <td>80.34</td>\n",
       "    </tr>\n",
       "    <tr>\n",
       "      <th>17</th>\n",
       "      <td>73.37</td>\n",
       "      <td>73.73</td>\n",
       "    </tr>\n",
       "    <tr>\n",
       "      <th>18</th>\n",
       "      <td>73.65</td>\n",
       "      <td>75.00</td>\n",
       "    </tr>\n",
       "    <tr>\n",
       "      <th>19</th>\n",
       "      <td>80.85</td>\n",
       "      <td>81.15</td>\n",
       "    </tr>\n",
       "    <tr>\n",
       "      <th>20</th>\n",
       "      <td>82.30</td>\n",
       "      <td>82.50</td>\n",
       "    </tr>\n",
       "    <tr>\n",
       "      <th>21</th>\n",
       "      <td>81.50</td>\n",
       "      <td>81.49</td>\n",
       "    </tr>\n",
       "    <tr>\n",
       "      <th>22</th>\n",
       "      <td>68.86</td>\n",
       "      <td>69.23</td>\n",
       "    </tr>\n",
       "    <tr>\n",
       "      <th>23</th>\n",
       "      <td>78.49</td>\n",
       "      <td>78.56</td>\n",
       "    </tr>\n",
       "    <tr>\n",
       "      <th>24</th>\n",
       "      <td>83.36</td>\n",
       "      <td>82.67</td>\n",
       "    </tr>\n",
       "    <tr>\n",
       "      <th>25</th>\n",
       "      <td>78.97</td>\n",
       "      <td>79.07</td>\n",
       "    </tr>\n",
       "    <tr>\n",
       "      <th>26</th>\n",
       "      <td>75.04</td>\n",
       "      <td>75.09</td>\n",
       "    </tr>\n",
       "    <tr>\n",
       "      <th>27</th>\n",
       "      <td>80.50</td>\n",
       "      <td>80.25</td>\n",
       "    </tr>\n",
       "    <tr>\n",
       "      <th>28</th>\n",
       "      <td>63.31</td>\n",
       "      <td>63.80</td>\n",
       "    </tr>\n",
       "    <tr>\n",
       "      <th>29</th>\n",
       "      <td>67.50</td>\n",
       "      <td>68.16</td>\n",
       "    </tr>\n",
       "  </tbody>\n",
       "</table>\n",
       "</div>"
      ],
      "text/plain": [
       "    actual  predicted\n",
       "0    79.60      79.91\n",
       "1    80.01      80.38\n",
       "2    79.58      80.11\n",
       "3    82.91      82.67\n",
       "4    82.72      82.47\n",
       "5    77.58      77.11\n",
       "6    81.27      80.92\n",
       "7    73.08      72.27\n",
       "8    75.08      74.71\n",
       "9    78.97      79.52\n",
       "10   82.22      81.87\n",
       "11   69.79      69.76\n",
       "12   72.43      72.76\n",
       "13   75.50      75.56\n",
       "14   80.84      80.73\n",
       "15   83.02      82.55\n",
       "16   79.88      80.34\n",
       "17   73.37      73.73\n",
       "18   73.65      75.00\n",
       "19   80.85      81.15\n",
       "20   82.30      82.50\n",
       "21   81.50      81.49\n",
       "22   68.86      69.23\n",
       "23   78.49      78.56\n",
       "24   83.36      82.67\n",
       "25   78.97      79.07\n",
       "26   75.04      75.09\n",
       "27   80.50      80.25\n",
       "28   63.31      63.80\n",
       "29   67.50      68.16"
      ]
     },
     "execution_count": 154,
     "metadata": {},
     "output_type": "execute_result"
    }
   ],
   "source": [
    "## Store the actual and predicted data for comparison\n",
    "df=pd.DataFrame({'actual':np.array(ytest),'predicted':np.round(ypred,2)})\n",
    "df.head(30)"
   ]
  },
  {
   "cell_type": "code",
   "execution_count": 139,
   "id": "0fa1355c",
   "metadata": {},
   "outputs": [
    {
     "data": {
      "text/plain": [
       "<AxesSubplot:xlabel='life_expectancy', ylabel='Density'>"
      ]
     },
     "execution_count": 139,
     "metadata": {},
     "output_type": "execute_result"
    }
   ],
   "source": [
    "# Plot the actual and predicted values\n",
    "ax1=sns.distplot(ytest,hist=False,color='blue',label='Actual')\n",
    "sns.distplot(ypred,hist=False,color='red',label='Predicted',ax=ax1)"
   ]
  }
 ],
 "metadata": {
  "kernelspec": {
   "display_name": "Python 3",
   "language": "python",
   "name": "python3"
  },
  "language_info": {
   "codemirror_mode": {
    "name": "ipython",
    "version": 3
   },
   "file_extension": ".py",
   "mimetype": "text/x-python",
   "name": "python",
   "nbconvert_exporter": "python",
   "pygments_lexer": "ipython3",
   "version": "3.8.8"
  }
 },
 "nbformat": 4,
 "nbformat_minor": 5
}
